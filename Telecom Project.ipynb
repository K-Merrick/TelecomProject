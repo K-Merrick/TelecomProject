{
 "cells": [
  {
   "cell_type": "markdown",
   "metadata": {},
   "source": [
    "# Telecom Churn Prediction"
   ]
  },
  {
   "cell_type": "markdown",
   "metadata": {},
   "source": [
    "In this project, we are tasked with developing a machine learning model that can predict, with a high AUC-ROC, whether a client will churn. Our goal is to develop a model that provides an AUC-ROC score of at least .88. In the first portion of this project, we will perform exploratory data analysis and data preprocessing; regarding the latter, we will ensure that our data is suitably formatted to be used in classification and we will remove unnecessary features while fomulating new ones. We will then train and test a series of classification models to find the one that performs best. In doing so, we will first examine various singular gradient-boosting models; we will then build ensemble models using blending and stackign techniques. Finally, we will identify and describe our best performing model, which will be submitted in partial fulfilment of the criteria for this project."
   ]
  },
  {
   "cell_type": "markdown",
   "metadata": {},
   "source": [
    "**Project Results Summary**: After preprocessing our data and training and testing various models, we found that our stacked meta-model provided the highest AUC-ROC score of all models trained and tested for this project. Our goal was to build a model with an AUC-ROC score of greater than .88; as it turns out, our best model's score (i.e., the Stacked Meta-Model) was approximately .963. We believe that this model provides an adequate balance between maximizing true positives and negatives while minimizing false positives and negatives (which is reflected in the high Matthew's Correlation Coefficient score of approximately .777). "
   ]
  },
  {
   "cell_type": "markdown",
   "metadata": {
    "toc": true
   },
   "source": [
    "<h1>Table of Contents<span class=\"tocSkip\"></span></h1>\n",
    "<div class=\"toc\"><ul class=\"toc-item\"><li><span><a href=\"#Import-Libraries-and-Read-Data\" data-toc-modified-id=\"Import-Libraries-and-Read-Data-1\"><span class=\"toc-item-num\">1&nbsp;&nbsp;</span>Import Libraries and Read Data</a></span><ul class=\"toc-item\"><li><span><a href=\"#Import-Relevant-Libraries\" data-toc-modified-id=\"Import-Relevant-Libraries-1.1\"><span class=\"toc-item-num\">1.1&nbsp;&nbsp;</span>Import Relevant Libraries</a></span></li><li><span><a href=\"#Create-Script-to-Skip-Cells\" data-toc-modified-id=\"Create-Script-to-Skip-Cells-1.2\"><span class=\"toc-item-num\">1.2&nbsp;&nbsp;</span>Create Script to Skip Cells</a></span></li><li><span><a href=\"#Download-and-Unpack-Data\" data-toc-modified-id=\"Download-and-Unpack-Data-1.3\"><span class=\"toc-item-num\">1.3&nbsp;&nbsp;</span>Download and Unpack Data</a></span></li><li><span><a href=\"#Read-Files-to-DataFrames\" data-toc-modified-id=\"Read-Files-to-DataFrames-1.4\"><span class=\"toc-item-num\">1.4&nbsp;&nbsp;</span>Read Files to DataFrames</a></span></li></ul></li><li><span><a href=\"#Preprocess-the-Data\" data-toc-modified-id=\"Preprocess-the-Data-2\"><span class=\"toc-item-num\">2&nbsp;&nbsp;</span>Preprocess the Data</a></span><ul class=\"toc-item\"><li><span><a href=\"#Check-for-Similar-Columns-in-All-DataFrames-&amp;-Merge-Data\" data-toc-modified-id=\"Check-for-Similar-Columns-in-All-DataFrames-&amp;-Merge-Data-2.1\"><span class=\"toc-item-num\">2.1&nbsp;&nbsp;</span>Check for Similar Columns in All DataFrames &amp; Merge Data</a></span></li><li><span><a href=\"#Examine-New-DataFrame-Information\" data-toc-modified-id=\"Examine-New-DataFrame-Information-2.2\"><span class=\"toc-item-num\">2.2&nbsp;&nbsp;</span>Examine New DataFrame Information</a></span></li><li><span><a href=\"#Fill-in-NaNs\" data-toc-modified-id=\"Fill-in-NaNs-2.3\"><span class=\"toc-item-num\">2.3&nbsp;&nbsp;</span>Fill in NaNs</a></span></li><li><span><a href=\"#Change-Datatype-of-Various-Features\" data-toc-modified-id=\"Change-Datatype-of-Various-Features-2.4\"><span class=\"toc-item-num\">2.4&nbsp;&nbsp;</span>Change Datatype of Various Features</a></span></li><li><span><a href=\"#Feature-Engineering\" data-toc-modified-id=\"Feature-Engineering-2.5\"><span class=\"toc-item-num\">2.5&nbsp;&nbsp;</span>Feature Engineering</a></span></li><li><span><a href=\"#Data-Preprocessing-Summary\" data-toc-modified-id=\"Data-Preprocessing-Summary-2.6\"><span class=\"toc-item-num\">2.6&nbsp;&nbsp;</span>Data Preprocessing Summary</a></span></li></ul></li><li><span><a href=\"#Exploratory-Data-Analysis\" data-toc-modified-id=\"Exploratory-Data-Analysis-3\"><span class=\"toc-item-num\">3&nbsp;&nbsp;</span>Exploratory Data Analysis</a></span><ul class=\"toc-item\"><li><span><a href=\"#Examine-Target-Distribution\" data-toc-modified-id=\"Examine-Target-Distribution-3.1\"><span class=\"toc-item-num\">3.1&nbsp;&nbsp;</span>Examine Target Distribution</a></span></li><li><span><a href=\"#Examine-Correlations\" data-toc-modified-id=\"Examine-Correlations-3.2\"><span class=\"toc-item-num\">3.2&nbsp;&nbsp;</span>Examine Correlations</a></span></li><li><span><a href=\"#Examine-Dispersion-of-Continuous-Variables\" data-toc-modified-id=\"Examine-Dispersion-of-Continuous-Variables-3.3\"><span class=\"toc-item-num\">3.3&nbsp;&nbsp;</span>Examine Dispersion of Continuous Variables</a></span></li><li><span><a href=\"#Test-Significance-of-Mean-Differences\" data-toc-modified-id=\"Test-Significance-of-Mean-Differences-3.4\"><span class=\"toc-item-num\">3.4&nbsp;&nbsp;</span>Test Significance of Mean Differences</a></span></li><li><span><a href=\"#Exploratory-Data-Analysis-Summary\" data-toc-modified-id=\"Exploratory-Data-Analysis-Summary-3.5\"><span class=\"toc-item-num\">3.5&nbsp;&nbsp;</span>Exploratory Data Analysis Summary</a></span></li></ul></li><li><span><a href=\"#Model-Development\" data-toc-modified-id=\"Model-Development-4\"><span class=\"toc-item-num\">4&nbsp;&nbsp;</span>Model Development</a></span><ul class=\"toc-item\"><li><span><a href=\"#Split-Dataset\" data-toc-modified-id=\"Split-Dataset-4.1\"><span class=\"toc-item-num\">4.1&nbsp;&nbsp;</span>Split Dataset</a></span></li><li><span><a href=\"#Create-Scoring-Function-for-Models\" data-toc-modified-id=\"Create-Scoring-Function-for-Models-4.2\"><span class=\"toc-item-num\">4.2&nbsp;&nbsp;</span>Create Scoring Function for Models</a></span></li><li><span><a href=\"#Find-Optimal-Hyperparameters-for-Base-Models-with-Bayesian-Optimization\" data-toc-modified-id=\"Find-Optimal-Hyperparameters-for-Base-Models-with-Bayesian-Optimization-4.3\"><span class=\"toc-item-num\">4.3&nbsp;&nbsp;</span>Find Optimal Hyperparameters for Base Models with Bayesian Optimization</a></span><ul class=\"toc-item\"><li><span><a href=\"#Create-Helper-Function\" data-toc-modified-id=\"Create-Helper-Function-4.3.1\"><span class=\"toc-item-num\">4.3.1&nbsp;&nbsp;</span>Create Helper Function</a></span></li><li><span><a href=\"#XGBClassifier-Optimization\" data-toc-modified-id=\"XGBClassifier-Optimization-4.3.2\"><span class=\"toc-item-num\">4.3.2&nbsp;&nbsp;</span>XGBClassifier Optimization</a></span></li><li><span><a href=\"#CatBoostClassifier-Optimization\" data-toc-modified-id=\"CatBoostClassifier-Optimization-4.3.3\"><span class=\"toc-item-num\">4.3.3&nbsp;&nbsp;</span>CatBoostClassifier Optimization</a></span></li><li><span><a href=\"#LGBMClassifier-Optimization\" data-toc-modified-id=\"LGBMClassifier-Optimization-4.3.4\"><span class=\"toc-item-num\">4.3.4&nbsp;&nbsp;</span>LGBMClassifier Optimization</a></span></li><li><span><a href=\"#Obtain-Scores-for-Base-Models\" data-toc-modified-id=\"Obtain-Scores-for-Base-Models-4.3.5\"><span class=\"toc-item-num\">4.3.5&nbsp;&nbsp;</span>Obtain Scores for Base Models</a></span></li></ul></li><li><span><a href=\"#Model-Blending\" data-toc-modified-id=\"Model-Blending-4.4\"><span class=\"toc-item-num\">4.4&nbsp;&nbsp;</span>Model Blending</a></span><ul class=\"toc-item\"><li><span><a href=\"#Create-Function-for-Model-Fitting\" data-toc-modified-id=\"Create-Function-for-Model-Fitting-4.4.1\"><span class=\"toc-item-num\">4.4.1&nbsp;&nbsp;</span>Create Function for Model Fitting</a></span></li><li><span><a href=\"#Create-Function-for-Meta-Model-Testing\" data-toc-modified-id=\"Create-Function-for-Meta-Model-Testing-4.4.2\"><span class=\"toc-item-num\">4.4.2&nbsp;&nbsp;</span>Create Function for Meta-Model Testing</a></span></li><li><span><a href=\"#Split-Training-Data-into-Train-and-Validation-Sets\" data-toc-modified-id=\"Split-Training-Data-into-Train-and-Validation-Sets-4.4.3\"><span class=\"toc-item-num\">4.4.3&nbsp;&nbsp;</span>Split Training Data into Train and Validation Sets</a></span></li><li><span><a href=\"#Train-Meta-Model\" data-toc-modified-id=\"Train-Meta-Model-4.4.4\"><span class=\"toc-item-num\">4.4.4&nbsp;&nbsp;</span>Train Meta-Model</a></span></li><li><span><a href=\"#Test-Meta-Model\" data-toc-modified-id=\"Test-Meta-Model-4.4.5\"><span class=\"toc-item-num\">4.4.5&nbsp;&nbsp;</span>Test Meta-Model</a></span></li><li><span><a href=\"#Model-Blending-Summary\" data-toc-modified-id=\"Model-Blending-Summary-4.4.6\"><span class=\"toc-item-num\">4.4.6&nbsp;&nbsp;</span>Model Blending Summary</a></span></li></ul></li><li><span><a href=\"#Model-Stacking\" data-toc-modified-id=\"Model-Stacking-4.5\"><span class=\"toc-item-num\">4.5&nbsp;&nbsp;</span>Model Stacking</a></span><ul class=\"toc-item\"><li><span><a href=\"#Stacking-with-Sklearn's-StackingClassifier\" data-toc-modified-id=\"Stacking-with-Sklearn's-StackingClassifier-4.5.1\"><span class=\"toc-item-num\">4.5.1&nbsp;&nbsp;</span>Stacking with Sklearn's StackingClassifier</a></span></li><li><span><a href=\"#Create-Function-to-Obtain-Out-of-Fold-Predictions\" data-toc-modified-id=\"Create-Function-to-Obtain-Out-of-Fold-Predictions-4.5.2\"><span class=\"toc-item-num\">4.5.2&nbsp;&nbsp;</span>Create Function to Obtain Out-of-Fold Predictions</a></span></li><li><span><a href=\"#Create-Prediction-DataFrames\" data-toc-modified-id=\"Create-Prediction-DataFrames-4.5.3\"><span class=\"toc-item-num\">4.5.3&nbsp;&nbsp;</span>Create Prediction DataFrames</a></span></li><li><span><a href=\"#Obtain-Predictions-for-Base-Models\" data-toc-modified-id=\"Obtain-Predictions-for-Base-Models-4.5.4\"><span class=\"toc-item-num\">4.5.4&nbsp;&nbsp;</span>Obtain Predictions for Base Models</a></span></li><li><span><a href=\"#Train-and-Test-Stacking-Meta-Model\" data-toc-modified-id=\"Train-and-Test-Stacking-Meta-Model-4.5.5\"><span class=\"toc-item-num\">4.5.5&nbsp;&nbsp;</span>Train and Test Stacking Meta-Model</a></span></li><li><span><a href=\"#Model-Stacking-Summary\" data-toc-modified-id=\"Model-Stacking-Summary-4.5.6\"><span class=\"toc-item-num\">4.5.6&nbsp;&nbsp;</span>Model Stacking Summary</a></span></li></ul></li></ul></li><li><span><a href=\"#Conclusion\" data-toc-modified-id=\"Conclusion-5\"><span class=\"toc-item-num\">5&nbsp;&nbsp;</span>Conclusion</a></span></li></ul></div>"
   ]
  },
  {
   "cell_type": "markdown",
   "metadata": {},
   "source": [
    "## Import Libraries and Read Data"
   ]
  },
  {
   "cell_type": "markdown",
   "metadata": {},
   "source": [
    "### Import Relevant Libraries"
   ]
  },
  {
   "cell_type": "code",
   "execution_count": 1,
   "metadata": {},
   "outputs": [],
   "source": [
    "import pandas as pd\n",
    "import numpy as np\n",
    "import os\n",
    "import matplotlib.pyplot as plt\n",
    "import seaborn as sns\n",
    "from datetime import datetime\n",
    "from tqdm import tqdm\n",
    "from scipy import stats as st\n",
    "\n",
    "import optuna\n",
    "import xgboost as xgb\n",
    "from catboost import CatBoostClassifier, Pool\n",
    "import lightgbm as lgbm\n",
    "\n",
    "from sklearn.metrics import roc_auc_score as ros\n",
    "from sklearn.metrics import matthews_corrcoef\n",
    "from sklearn.metrics import f1_score\n",
    "from sklearn.metrics import confusion_matrix\n",
    "\n",
    "from sklearn.linear_model import LogisticRegression\n",
    "from sklearn.model_selection import KFold\n",
    "from sklearn.model_selection import StratifiedKFold\n",
    "from sklearn.model_selection import train_test_split\n",
    "from sklearn.ensemble import StackingClassifier"
   ]
  },
  {
   "cell_type": "markdown",
   "metadata": {},
   "source": [
    "### Create Script to Skip Cells"
   ]
  },
  {
   "cell_type": "code",
   "execution_count": 2,
   "metadata": {},
   "outputs": [
    {
     "name": "stdout",
     "output_type": "stream",
     "text": [
      "Overwriting skip_kernel_extension.py\n"
     ]
    }
   ],
   "source": [
    "%%writefile skip_kernel_extension.py\n",
    "\n",
    "#Create's script to skip cells instead of running.\n",
    "#This is to preserve code while saving time.\n",
    "def skip(line, cell=None):\n",
    "    '''Skips execution of the current line/cell if line evaluates to True.'''\n",
    "    if eval(line):\n",
    "        return\n",
    "\n",
    "    get_ipython().ex(cell)\n",
    "\n",
    "def load_ipython_extension(shell):\n",
    "    '''Registers the skip magic when the extension loads.'''\n",
    "    shell.register_magic_function(skip, 'line_cell')\n",
    "\n",
    "def unload_ipython_extension(shell):\n",
    "    '''Unregisters the skip magic when the extension unloads.'''\n",
    "    del shell.magics_manager.magics['cell']['skip']"
   ]
  },
  {
   "cell_type": "code",
   "execution_count": 3,
   "metadata": {},
   "outputs": [],
   "source": [
    "#Load script for skipping certain cells.\n",
    "%load_ext skip_kernel_extension"
   ]
  },
  {
   "cell_type": "markdown",
   "metadata": {},
   "source": [
    "### Download and Unpack Data"
   ]
  },
  {
   "cell_type": "code",
   "execution_count": 4,
   "metadata": {},
   "outputs": [
    {
     "name": "stdout",
     "output_type": "stream",
     "text": [
      "['internet.csv', 'phone.csv', 'contract.csv', 'personal.csv']\n"
     ]
    }
   ],
   "source": [
    "try:\n",
    "    #Display files in directory if they exist.\n",
    "    file_list=os.listdir(r\"df_data/final_provider/\")\n",
    "    print (file_list)\n",
    "\n",
    "except:\n",
    "    #Download file from Google Drive.\n",
    "    !gdown https://drive.google.com/uc?id=1iYdXbrDOGftGB69qUthPmwJNXwP7KB9r\n",
    "    !unzip final_provider.zip -d ./df_data/\n",
    "    \n",
    "    #Display files in directory.\n",
    "    file_list=os.listdir(r\"df_data/final_provider/\")\n",
    "    print (file_list)"
   ]
  },
  {
   "cell_type": "markdown",
   "metadata": {},
   "source": [
    "### Read Files to DataFrames"
   ]
  },
  {
   "cell_type": "code",
   "execution_count": 5,
   "metadata": {},
   "outputs": [],
   "source": [
    "#Read files to DataFrame.\n",
    "internet = pd.read_csv(\"df_data/final_provider/internet.csv\")\n",
    "phone = pd.read_csv(\"df_data/final_provider/phone.csv\")\n",
    "personal = pd.read_csv(\"df_data/final_provider/personal.csv\")\n",
    "contract = pd.read_csv(\"df_data/final_provider/contract.csv\")"
   ]
  },
  {
   "cell_type": "markdown",
   "metadata": {
    "tags": []
   },
   "source": [
    "## Preprocess the Data"
   ]
  },
  {
   "cell_type": "markdown",
   "metadata": {
    "tags": []
   },
   "source": [
    "### Check for Similar Columns in All DataFrames & Merge Data"
   ]
  },
  {
   "cell_type": "markdown",
   "metadata": {},
   "source": [
    "Ideally, we would like to merge DataFrames to make the data easier to work with; however, in order to do so, we must identify a column unique to all DataFrames on which to merge them. To determine whether we can merge our DataFrames, let us check whether there is feature that exists in all DataFrames."
   ]
  },
  {
   "cell_type": "code",
   "execution_count": 6,
   "metadata": {},
   "outputs": [
    {
     "name": "stdout",
     "output_type": "stream",
     "text": [
      "Similar Columns Across all DataFrames: {'customerID'}\n"
     ]
    }
   ],
   "source": [
    "#Use set intersection method to check for similar columns.\n",
    "print(f'Similar Columns Across all DataFrames: {set.intersection(set(internet.columns), set(phone.columns), set(personal.columns), set(contract.columns))}')"
   ]
  },
  {
   "cell_type": "markdown",
   "metadata": {},
   "source": [
    "We can see that one feature exists in all DataFrames - that is, the 'customerID' feature. If all of our DataFrames are to be merged on this feature in such a way that data is not lost, the values of feature must exist in more than one DataFrame. To check whether this is the case, we will use the set.difference() method."
   ]
  },
  {
   "cell_type": "code",
   "execution_count": 7,
   "metadata": {},
   "outputs": [
    {
     "name": "stdout",
     "output_type": "stream",
     "text": [
      "Total Non-intersecting Customer IDs: 0\n"
     ]
    }
   ],
   "source": [
    "#Check if 'customerID' value exists in one DataFrame only.\n",
    "print(f'Total Non-intersecting Customer IDs: {len(set.difference(set(internet[\"customerID\"]), set(phone[\"customerID\"]), set(personal[\"customerID\"]), set(contract[\"customerID\"])))}')"
   ]
  },
  {
   "cell_type": "markdown",
   "metadata": {},
   "source": [
    "2.1 Notes: We can see that there are no Customer IDs that exist only on one DataFrame and not at least one other. Because of this, we can infer that all of the DataFrames are interconnected. While some Customer ID's might not feature across all DataFrames, this is to be expected, as not every individual takes advantage of everything a telecommunications company offers, such as phone and internet. Because there are no non-intersecting customer IDs, we can merge all DataFrames together.\n",
    "\n",
    "Our intuition is that all customers' information is contained in personal. If this is the case, we will use the customer IDs in this DataFrame as the merge keys. To test whether our intuition is correct, let us see if any of the customer IDs in the other DataFrames are missing from the personal DataFrame.\n"
   ]
  },
  {
   "cell_type": "code",
   "execution_count": 8,
   "metadata": {},
   "outputs": [
    {
     "name": "stdout",
     "output_type": "stream",
     "text": [
      "Total Customer IDs Missing From Personal DataFrame: 0\n"
     ]
    }
   ],
   "source": [
    "#Get list of IDs not in any other DataFrame.\n",
    "print(\"Total Customer IDs Missing From Personal DataFrame: {}\".format(len(set(personal[\"customerID\"]).difference(set(internet[\"customerID\"]),\n",
    "                                                                          set(contract[\"customerID\"]), set(phone[\"customerID\"])))))"
   ]
  },
  {
   "cell_type": "markdown",
   "metadata": {},
   "source": [
    "2.1 Notes Continued: Our intuition was correct. So that we preserve the information from all DataFrames, we will perform a left merge with the personal DataFrame, using the 'customerID' values as keys."
   ]
  },
  {
   "cell_type": "code",
   "execution_count": 9,
   "metadata": {},
   "outputs": [],
   "source": [
    "#Merge DataFrames on 'customerID' Column\n",
    "df = (personal.merge(contract, how=\"left\", on=\"customerID\")\n",
    "              .merge(phone, how=\"left\", on=\"customerID\")\n",
    "              .merge(internet, how=\"left\", on=\"customerID\"))"
   ]
  },
  {
   "cell_type": "markdown",
   "metadata": {},
   "source": [
    "### Examine New DataFrame Information"
   ]
  },
  {
   "cell_type": "code",
   "execution_count": 10,
   "metadata": {},
   "outputs": [
    {
     "name": "stdout",
     "output_type": "stream",
     "text": [
      "<class 'pandas.core.frame.DataFrame'>\n",
      "Int64Index: 7043 entries, 0 to 7042\n",
      "Data columns (total 20 columns):\n",
      " #   Column            Non-Null Count  Dtype  \n",
      "---  ------            --------------  -----  \n",
      " 0   customerID        7043 non-null   object \n",
      " 1   gender            7043 non-null   object \n",
      " 2   SeniorCitizen     7043 non-null   int64  \n",
      " 3   Partner           7043 non-null   object \n",
      " 4   Dependents        7043 non-null   object \n",
      " 5   BeginDate         7043 non-null   object \n",
      " 6   EndDate           7043 non-null   object \n",
      " 7   Type              7043 non-null   object \n",
      " 8   PaperlessBilling  7043 non-null   object \n",
      " 9   PaymentMethod     7043 non-null   object \n",
      " 10  MonthlyCharges    7043 non-null   float64\n",
      " 11  TotalCharges      7043 non-null   object \n",
      " 12  MultipleLines     6361 non-null   object \n",
      " 13  InternetService   5517 non-null   object \n",
      " 14  OnlineSecurity    5517 non-null   object \n",
      " 15  OnlineBackup      5517 non-null   object \n",
      " 16  DeviceProtection  5517 non-null   object \n",
      " 17  TechSupport       5517 non-null   object \n",
      " 18  StreamingTV       5517 non-null   object \n",
      " 19  StreamingMovies   5517 non-null   object \n",
      "dtypes: float64(1), int64(1), object(18)\n",
      "memory usage: 1.1+ MB\n",
      "None\n"
     ]
    }
   ],
   "source": [
    "print(df.info())"
   ]
  },
  {
   "cell_type": "markdown",
   "metadata": {},
   "source": [
    "2.2 Notes: From the above information, we can see that there are missnig values in all columns after 'TotalCharges'. These columns completely comprise the 'internet' DataFrame (except for 'MultipleLines', which is from the phone DataFrame), which suggests that the NaNs in these columns are for those individuals who did not purchase a contract for internet. Given this information, we will fill these NaNs with 'No'. Rather than filling the NaNs with 0 at this point, we will fill them with 'No' as our target column, which is 'EndDate', has 'No' values for those who haven't churned.\n",
    "\n",
    "As for the 'MultipleLines' column, which is from the 'phone' DataFrame, we believe that the NaNs represent individuals who either no longer have a phone contract, or those who have only internet and no phone. As such, we will also replace these missing values with 'No'.\n",
    "\n",
    "Finally, we notice that most of the features are of the 'object' datatype. In a subsequent subsection we will change the datatypes for most of these features to a numeric type."
   ]
  },
  {
   "cell_type": "markdown",
   "metadata": {},
   "source": [
    "### Fill in NaNs"
   ]
  },
  {
   "cell_type": "code",
   "execution_count": 11,
   "metadata": {},
   "outputs": [],
   "source": [
    "#Fills NaNs in all columns with 'No'\n",
    "df = df.fillna('No')"
   ]
  },
  {
   "cell_type": "code",
   "execution_count": 12,
   "metadata": {},
   "outputs": [
    {
     "name": "stdout",
     "output_type": "stream",
     "text": [
      "Total NaNs in DataFrame: 0\n"
     ]
    }
   ],
   "source": [
    "#Get new NaN count.\n",
    "print(f'Total NaNs in DataFrame: {df.isnull().sum().sum()}')"
   ]
  },
  {
   "cell_type": "markdown",
   "metadata": {},
   "source": [
    "2.3 Notes: As we can see, all of the identified NaNs have been filled. Let us now move on to changing the datatypes for various features."
   ]
  },
  {
   "cell_type": "markdown",
   "metadata": {},
   "source": [
    "### Change Datatype of Various Features"
   ]
  },
  {
   "cell_type": "markdown",
   "metadata": {},
   "source": [
    "In subsection 2.2 we noted that many features are comprised of binary values - that is, 'Yes' and 'No' values. In order to change the datatype for these faetures, we will replace the 'No' values with 0 and the 'Yes' values with 1."
   ]
  },
  {
   "cell_type": "code",
   "execution_count": 13,
   "metadata": {},
   "outputs": [],
   "source": [
    "#Replace 'No' and 'Yes' with 0 and 1, respectively, in binary-value columns.\n",
    "for col in df.columns:\n",
    "    if sorted(df[col].unique()) == ['No', 'Yes']:\n",
    "        df[col] = df[col].replace({'No':0, 'Yes':1})"
   ]
  },
  {
   "cell_type": "markdown",
   "metadata": {},
   "source": [
    "2.4 Notes: As mentioned, our target column is 'EndDate'. In this column, 'No' values mean a client hasn't ended their contract, while dates mark the time at which the client's conract ends. Given the specifications of this project, we are trying to build a classification model. To allow for classification, we need to ensure that the 'EndDate' column has binary values. To do this, we will replace every date value with 'Yes'. Next, we will replace those values with 0s and 1s, respectively."
   ]
  },
  {
   "cell_type": "code",
   "execution_count": 14,
   "metadata": {},
   "outputs": [],
   "source": [
    "#Categorize values in 'EndDate' column.\n",
    "df['EndDate'] = df['EndDate'].where(df['EndDate'] == 'No', 'Yes')\n",
    "df['EndDate'] = df['EndDate'].replace({'No':0, 'Yes':1})"
   ]
  },
  {
   "cell_type": "markdown",
   "metadata": {},
   "source": [
    "2.4 Notes Continued: Now that we've changed the datatypes of binary features with 'No'/'Yes' values, as well as turned our target into a binary feature, let us examine the remaining features to understand whether their datatypes should be changed and, if so, the best method to use. To start, we will obtain a count of unique values for each feature, as well as their current datatype."
   ]
  },
  {
   "cell_type": "code",
   "execution_count": 15,
   "metadata": {},
   "outputs": [
    {
     "name": "stdout",
     "output_type": "stream",
     "text": [
      "                  count   object\n",
      "customerID         7043   object\n",
      "gender                2   object\n",
      "SeniorCitizen         2    int64\n",
      "Partner               2    int64\n",
      "Dependents            2    int64\n",
      "BeginDate            77   object\n",
      "EndDate               2    int64\n",
      "Type                  3   object\n",
      "PaperlessBilling      2    int64\n",
      "PaymentMethod         4   object\n",
      "MonthlyCharges     1585  float64\n",
      "TotalCharges       6531   object\n",
      "MultipleLines         2    int64\n",
      "InternetService       3   object\n",
      "OnlineSecurity        2    int64\n",
      "OnlineBackup          2    int64\n",
      "DeviceProtection      2    int64\n",
      "TechSupport           2    int64\n",
      "StreamingTV           2    int64\n",
      "StreamingMovies       2    int64\n"
     ]
    }
   ],
   "source": [
    "#Print total of unique values and datatype for each feature.\n",
    "unique_count = pd.DataFrame(df.nunique(), columns=['count'])\n",
    "unique_count['object'] = df.dtypes\n",
    "print(unique_count)"
   ]
  },
  {
   "cell_type": "markdown",
   "metadata": {},
   "source": [
    "2.4 Notes Continued: We can see that the 'gender' feature is the only one remaining that is binary but still of the 'object' datatype. We will simply change this to 'int64' by setting 'Male' to 0 and 'Female' to 1."
   ]
  },
  {
   "cell_type": "code",
   "execution_count": 16,
   "metadata": {},
   "outputs": [],
   "source": [
    "#Change 'Female' to 1 and 'Male' to 0 in 'gender' column.\n",
    "df['gender'] = df['gender'].replace({'Male':0, 'Female':1})"
   ]
  },
  {
   "cell_type": "markdown",
   "metadata": {},
   "source": [
    "2.4 Notes continued: Having changed the dataypes for all binary categorical variables, we are left with only six features of the 'object' datatype. Of these, not all will be used to train a future model. For example, the 'customerID' features does not provide the model with any useful information; as such, we will remove it from the DataFrame. Similarly, we will remove the 'BeginDate' feature, though only once we've created an additional feature based on the length of time an individual's contract has been active. \n",
    "\n",
    "That being said, based on the above count of unique values for each feature, we can see that there are three polyvalent features with low cardinality - those are the 'PaymentMethod', 'InternetService', and 'Type' features. Since these are not overtly ordinal, we have decided to change their datatypes and values using frequency encoding. "
   ]
  },
  {
   "cell_type": "code",
   "execution_count": 17,
   "metadata": {},
   "outputs": [],
   "source": [
    "#Frequency encode 'PaymentMethod', 'InternetService', and 'Type' features.\n",
    "for col in ['PaymentMethod', 'InternetService', 'Type']:\n",
    "    group = df.groupby(col).size() / len(df[col])\n",
    "    df[col] = df[col].map(group)"
   ]
  },
  {
   "cell_type": "markdown",
   "metadata": {},
   "source": [
    "2.4 Notes Continued: With the low-cardinality polyvariate features frequency encoded, the only feature we have left to change the datatype of, except for those mentioned which we plan on removing, is the 'TotalCharges' feature. Currently, 'TotalCharges' is of the 'object' datatype, when it should apparently be numeric. Let us quickly make this change."
   ]
  },
  {
   "cell_type": "code",
   "execution_count": 18,
   "metadata": {},
   "outputs": [],
   "source": [
    "#Change datatype for 'TotalCharges' to numeric.\n",
    "df['TotalCharges'] = pd.to_numeric(df['TotalCharges'], errors='coerce')"
   ]
  },
  {
   "cell_type": "code",
   "execution_count": 19,
   "metadata": {},
   "outputs": [
    {
     "name": "stdout",
     "output_type": "stream",
     "text": [
      "Total NaNs in TotalCharges: 11\n",
      "\n"
     ]
    },
    {
     "data": {
      "text/html": [
       "<div>\n",
       "<style scoped>\n",
       "    .dataframe tbody tr th:only-of-type {\n",
       "        vertical-align: middle;\n",
       "    }\n",
       "\n",
       "    .dataframe tbody tr th {\n",
       "        vertical-align: top;\n",
       "    }\n",
       "\n",
       "    .dataframe thead th {\n",
       "        text-align: right;\n",
       "    }\n",
       "</style>\n",
       "<table border=\"1\" class=\"dataframe\">\n",
       "  <thead>\n",
       "    <tr style=\"text-align: right;\">\n",
       "      <th></th>\n",
       "      <th>customerID</th>\n",
       "      <th>gender</th>\n",
       "      <th>SeniorCitizen</th>\n",
       "      <th>Partner</th>\n",
       "      <th>Dependents</th>\n",
       "      <th>BeginDate</th>\n",
       "      <th>EndDate</th>\n",
       "      <th>Type</th>\n",
       "      <th>PaperlessBilling</th>\n",
       "      <th>PaymentMethod</th>\n",
       "      <th>MonthlyCharges</th>\n",
       "      <th>TotalCharges</th>\n",
       "      <th>MultipleLines</th>\n",
       "      <th>InternetService</th>\n",
       "      <th>OnlineSecurity</th>\n",
       "      <th>OnlineBackup</th>\n",
       "      <th>DeviceProtection</th>\n",
       "      <th>TechSupport</th>\n",
       "      <th>StreamingTV</th>\n",
       "      <th>StreamingMovies</th>\n",
       "    </tr>\n",
       "  </thead>\n",
       "  <tbody>\n",
       "    <tr>\n",
       "      <th>488</th>\n",
       "      <td>4472-LVYGI</td>\n",
       "      <td>1</td>\n",
       "      <td>0</td>\n",
       "      <td>1</td>\n",
       "      <td>1</td>\n",
       "      <td>2020-02-01</td>\n",
       "      <td>0</td>\n",
       "      <td>0.240664</td>\n",
       "      <td>1</td>\n",
       "      <td>0.219225</td>\n",
       "      <td>52.55</td>\n",
       "      <td>NaN</td>\n",
       "      <td>0</td>\n",
       "      <td>0.343746</td>\n",
       "      <td>1</td>\n",
       "      <td>0</td>\n",
       "      <td>1</td>\n",
       "      <td>1</td>\n",
       "      <td>1</td>\n",
       "      <td>0</td>\n",
       "    </tr>\n",
       "    <tr>\n",
       "      <th>753</th>\n",
       "      <td>3115-CZMZD</td>\n",
       "      <td>0</td>\n",
       "      <td>0</td>\n",
       "      <td>0</td>\n",
       "      <td>1</td>\n",
       "      <td>2020-02-01</td>\n",
       "      <td>0</td>\n",
       "      <td>0.240664</td>\n",
       "      <td>0</td>\n",
       "      <td>0.228880</td>\n",
       "      <td>20.25</td>\n",
       "      <td>NaN</td>\n",
       "      <td>0</td>\n",
       "      <td>0.216669</td>\n",
       "      <td>0</td>\n",
       "      <td>0</td>\n",
       "      <td>0</td>\n",
       "      <td>0</td>\n",
       "      <td>0</td>\n",
       "      <td>0</td>\n",
       "    </tr>\n",
       "    <tr>\n",
       "      <th>936</th>\n",
       "      <td>5709-LVOEQ</td>\n",
       "      <td>1</td>\n",
       "      <td>0</td>\n",
       "      <td>1</td>\n",
       "      <td>1</td>\n",
       "      <td>2020-02-01</td>\n",
       "      <td>0</td>\n",
       "      <td>0.240664</td>\n",
       "      <td>0</td>\n",
       "      <td>0.228880</td>\n",
       "      <td>80.85</td>\n",
       "      <td>NaN</td>\n",
       "      <td>0</td>\n",
       "      <td>0.343746</td>\n",
       "      <td>1</td>\n",
       "      <td>1</td>\n",
       "      <td>1</td>\n",
       "      <td>0</td>\n",
       "      <td>1</td>\n",
       "      <td>1</td>\n",
       "    </tr>\n",
       "    <tr>\n",
       "      <th>1082</th>\n",
       "      <td>4367-NUYAO</td>\n",
       "      <td>0</td>\n",
       "      <td>0</td>\n",
       "      <td>1</td>\n",
       "      <td>1</td>\n",
       "      <td>2020-02-01</td>\n",
       "      <td>0</td>\n",
       "      <td>0.240664</td>\n",
       "      <td>0</td>\n",
       "      <td>0.228880</td>\n",
       "      <td>25.75</td>\n",
       "      <td>NaN</td>\n",
       "      <td>1</td>\n",
       "      <td>0.216669</td>\n",
       "      <td>0</td>\n",
       "      <td>0</td>\n",
       "      <td>0</td>\n",
       "      <td>0</td>\n",
       "      <td>0</td>\n",
       "      <td>0</td>\n",
       "    </tr>\n",
       "    <tr>\n",
       "      <th>1340</th>\n",
       "      <td>1371-DWPAZ</td>\n",
       "      <td>1</td>\n",
       "      <td>0</td>\n",
       "      <td>1</td>\n",
       "      <td>1</td>\n",
       "      <td>2020-02-01</td>\n",
       "      <td>0</td>\n",
       "      <td>0.240664</td>\n",
       "      <td>0</td>\n",
       "      <td>0.216101</td>\n",
       "      <td>56.05</td>\n",
       "      <td>NaN</td>\n",
       "      <td>0</td>\n",
       "      <td>0.343746</td>\n",
       "      <td>1</td>\n",
       "      <td>1</td>\n",
       "      <td>1</td>\n",
       "      <td>1</td>\n",
       "      <td>1</td>\n",
       "      <td>0</td>\n",
       "    </tr>\n",
       "  </tbody>\n",
       "</table>\n",
       "</div>"
      ],
      "text/plain": [
       "      customerID  gender  SeniorCitizen  Partner  Dependents   BeginDate  \\\n",
       "488   4472-LVYGI       1              0        1           1  2020-02-01   \n",
       "753   3115-CZMZD       0              0        0           1  2020-02-01   \n",
       "936   5709-LVOEQ       1              0        1           1  2020-02-01   \n",
       "1082  4367-NUYAO       0              0        1           1  2020-02-01   \n",
       "1340  1371-DWPAZ       1              0        1           1  2020-02-01   \n",
       "\n",
       "      EndDate      Type  PaperlessBilling  PaymentMethod  MonthlyCharges  \\\n",
       "488         0  0.240664                 1       0.219225           52.55   \n",
       "753         0  0.240664                 0       0.228880           20.25   \n",
       "936         0  0.240664                 0       0.228880           80.85   \n",
       "1082        0  0.240664                 0       0.228880           25.75   \n",
       "1340        0  0.240664                 0       0.216101           56.05   \n",
       "\n",
       "      TotalCharges  MultipleLines  InternetService  OnlineSecurity  \\\n",
       "488            NaN              0         0.343746               1   \n",
       "753            NaN              0         0.216669               0   \n",
       "936            NaN              0         0.343746               1   \n",
       "1082           NaN              1         0.216669               0   \n",
       "1340           NaN              0         0.343746               1   \n",
       "\n",
       "      OnlineBackup  DeviceProtection  TechSupport  StreamingTV  \\\n",
       "488              0                 1            1            1   \n",
       "753              0                 0            0            0   \n",
       "936              1                 1            0            1   \n",
       "1082             0                 0            0            0   \n",
       "1340             1                 1            1            1   \n",
       "\n",
       "      StreamingMovies  \n",
       "488                 0  \n",
       "753                 0  \n",
       "936                 1  \n",
       "1082                0  \n",
       "1340                0  "
      ]
     },
     "metadata": {},
     "output_type": "display_data"
    }
   ],
   "source": [
    "#Check for NaNs in 'TotalCharges' feature.\n",
    "total_nulls_charges = df['TotalCharges'].isnull().sum()\n",
    "\n",
    "#If there are NaNs, print count and DataFrame sample.\n",
    "if total_nulls_charges > 0:\n",
    "    print(f'Total NaNs in TotalCharges: {total_nulls_charges}\\n')\n",
    "    display(df.loc[df.TotalCharges.isnull()].head())"
   ]
  },
  {
   "cell_type": "markdown",
   "metadata": {},
   "source": [
    "2.4 Notes Continued: Since we found NaNs in 'TotalCharges' after changing the feature's datatype, we printed a subsample of the DataFrame in which the NaNs exist. It appears that all the NaNs occur where the date is '2020-02-01'. Our suspicion is that the NaNs are the result of an individual having newly purchased a plan, as a result of which they haven't had to make their first payment yet. To see whether this is the case, we will have to change the 'BeginDate' feature's datatype to 'datetime' and find the most recent date contained in the DataFrame."
   ]
  },
  {
   "cell_type": "code",
   "execution_count": 20,
   "metadata": {},
   "outputs": [
    {
     "name": "stdout",
     "output_type": "stream",
     "text": [
      "Most Recent Date in DataFrame: 2020-02-01 00:00:00\n"
     ]
    }
   ],
   "source": [
    "#Change 'BeginDate' to 'datetime' format.\n",
    "df['BeginDate'] = pd.to_datetime(df['BeginDate'])\n",
    "\n",
    "#Print most recent date in DataFrame.\n",
    "print(f'Most Recent Date in DataFrame: {df[\"BeginDate\"].sort_values(ascending=False).iloc[0]}')"
   ]
  },
  {
   "cell_type": "markdown",
   "metadata": {},
   "source": [
    "2.4 Notes Continued: As we can see, the most recent date in the DataFrame is 2020-02-01. This appears to confirm our suspicion that the NaNs in 'TotalCharges' are for individuals who haven't had to make their first payment yet. That being the case, we will simply replace the NaNs with 0s."
   ]
  },
  {
   "cell_type": "code",
   "execution_count": 21,
   "metadata": {},
   "outputs": [],
   "source": [
    "#Fill NaNs in 'TotalCharges' with 0s.\n",
    "df['TotalCharges'] = df['TotalCharges'].fillna(0)"
   ]
  },
  {
   "cell_type": "markdown",
   "metadata": {},
   "source": [
    "2.4 Summary: In this section we changed the datatype of most 'object' features to numeric. For binary variables, we changed the valies to 0 and 1. For polyvariate, low-cardinality variables, we used frequency encoding, which changed their datatypes to 'float64'. We also changed the 'BeginDate' feature's datatype to 'datetime64' in order to determine how to best fill the NaNs in 'TotalCharges' once the feature datatype was switched from 'object' to 'float64'; we determined that the best method would be to fill in the missing values with 0, as the NaNs are all associated with observations where the 'BeginDate' value is the most recent date listed in the DataFrame. Having changed the datatypes of all relevant 'object' features, we will perform feature engineering the the subsequent subsection."
   ]
  },
  {
   "cell_type": "markdown",
   "metadata": {},
   "source": [
    "### Feature Engineering"
   ]
  },
  {
   "cell_type": "markdown",
   "metadata": {},
   "source": [
    "Although we currently have 19 features to work with, we will not use the 'customerID' and 'BeginDate' features in building our model. Instead, we will remove these features and create new ones, one of which will be based on the 'BeginDate' values. Our plan is to create one feature that contains the number of days that a subject's contract has been active, one feature that lists the total number of months a subject's contract has been active, and one feature that contains the sum of services each user pays for."
   ]
  },
  {
   "cell_type": "code",
   "execution_count": 22,
   "metadata": {
    "tags": []
   },
   "outputs": [],
   "source": [
    "#Create feature for days and months an account has been active, using most recent date as maximum value.\n",
    "df['days'] = (pd.Timestamp('2020-02-01') - df['BeginDate']).dt.days\n",
    "df['months'] = ((pd.Timestamp('2020-02-01') - df['BeginDate']) / np.timedelta64(1, 'M')).round(0).astype('int')"
   ]
  },
  {
   "cell_type": "code",
   "execution_count": 23,
   "metadata": {},
   "outputs": [
    {
     "data": {
      "text/html": [
       "<div>\n",
       "<style scoped>\n",
       "    .dataframe tbody tr th:only-of-type {\n",
       "        vertical-align: middle;\n",
       "    }\n",
       "\n",
       "    .dataframe tbody tr th {\n",
       "        vertical-align: top;\n",
       "    }\n",
       "\n",
       "    .dataframe thead th {\n",
       "        text-align: right;\n",
       "    }\n",
       "</style>\n",
       "<table border=\"1\" class=\"dataframe\">\n",
       "  <thead>\n",
       "    <tr style=\"text-align: right;\">\n",
       "      <th></th>\n",
       "      <th>customerID</th>\n",
       "      <th>gender</th>\n",
       "      <th>SeniorCitizen</th>\n",
       "      <th>Partner</th>\n",
       "      <th>Dependents</th>\n",
       "      <th>BeginDate</th>\n",
       "      <th>EndDate</th>\n",
       "      <th>Type</th>\n",
       "      <th>PaperlessBilling</th>\n",
       "      <th>PaymentMethod</th>\n",
       "      <th>...</th>\n",
       "      <th>MultipleLines</th>\n",
       "      <th>InternetService</th>\n",
       "      <th>OnlineSecurity</th>\n",
       "      <th>OnlineBackup</th>\n",
       "      <th>DeviceProtection</th>\n",
       "      <th>TechSupport</th>\n",
       "      <th>StreamingTV</th>\n",
       "      <th>StreamingMovies</th>\n",
       "      <th>days</th>\n",
       "      <th>months</th>\n",
       "    </tr>\n",
       "  </thead>\n",
       "  <tbody>\n",
       "    <tr>\n",
       "      <th>0</th>\n",
       "      <td>7590-VHVEG</td>\n",
       "      <td>1</td>\n",
       "      <td>0</td>\n",
       "      <td>1</td>\n",
       "      <td>0</td>\n",
       "      <td>2020-01-01</td>\n",
       "      <td>0</td>\n",
       "      <td>0.550192</td>\n",
       "      <td>1</td>\n",
       "      <td>0.335794</td>\n",
       "      <td>...</td>\n",
       "      <td>0</td>\n",
       "      <td>0.343746</td>\n",
       "      <td>0</td>\n",
       "      <td>1</td>\n",
       "      <td>0</td>\n",
       "      <td>0</td>\n",
       "      <td>0</td>\n",
       "      <td>0</td>\n",
       "      <td>31</td>\n",
       "      <td>1</td>\n",
       "    </tr>\n",
       "    <tr>\n",
       "      <th>1</th>\n",
       "      <td>5575-GNVDE</td>\n",
       "      <td>0</td>\n",
       "      <td>0</td>\n",
       "      <td>0</td>\n",
       "      <td>0</td>\n",
       "      <td>2017-04-01</td>\n",
       "      <td>0</td>\n",
       "      <td>0.209144</td>\n",
       "      <td>0</td>\n",
       "      <td>0.228880</td>\n",
       "      <td>...</td>\n",
       "      <td>0</td>\n",
       "      <td>0.343746</td>\n",
       "      <td>1</td>\n",
       "      <td>0</td>\n",
       "      <td>1</td>\n",
       "      <td>0</td>\n",
       "      <td>0</td>\n",
       "      <td>0</td>\n",
       "      <td>1036</td>\n",
       "      <td>34</td>\n",
       "    </tr>\n",
       "    <tr>\n",
       "      <th>2</th>\n",
       "      <td>3668-QPYBK</td>\n",
       "      <td>0</td>\n",
       "      <td>0</td>\n",
       "      <td>0</td>\n",
       "      <td>0</td>\n",
       "      <td>2019-10-01</td>\n",
       "      <td>1</td>\n",
       "      <td>0.550192</td>\n",
       "      <td>1</td>\n",
       "      <td>0.228880</td>\n",
       "      <td>...</td>\n",
       "      <td>0</td>\n",
       "      <td>0.343746</td>\n",
       "      <td>1</td>\n",
       "      <td>1</td>\n",
       "      <td>0</td>\n",
       "      <td>0</td>\n",
       "      <td>0</td>\n",
       "      <td>0</td>\n",
       "      <td>123</td>\n",
       "      <td>4</td>\n",
       "    </tr>\n",
       "    <tr>\n",
       "      <th>3</th>\n",
       "      <td>7795-CFOCW</td>\n",
       "      <td>0</td>\n",
       "      <td>0</td>\n",
       "      <td>0</td>\n",
       "      <td>0</td>\n",
       "      <td>2016-05-01</td>\n",
       "      <td>0</td>\n",
       "      <td>0.209144</td>\n",
       "      <td>0</td>\n",
       "      <td>0.219225</td>\n",
       "      <td>...</td>\n",
       "      <td>0</td>\n",
       "      <td>0.343746</td>\n",
       "      <td>1</td>\n",
       "      <td>0</td>\n",
       "      <td>1</td>\n",
       "      <td>1</td>\n",
       "      <td>0</td>\n",
       "      <td>0</td>\n",
       "      <td>1371</td>\n",
       "      <td>45</td>\n",
       "    </tr>\n",
       "    <tr>\n",
       "      <th>4</th>\n",
       "      <td>9237-HQITU</td>\n",
       "      <td>1</td>\n",
       "      <td>0</td>\n",
       "      <td>0</td>\n",
       "      <td>0</td>\n",
       "      <td>2019-09-01</td>\n",
       "      <td>1</td>\n",
       "      <td>0.550192</td>\n",
       "      <td>1</td>\n",
       "      <td>0.335794</td>\n",
       "      <td>...</td>\n",
       "      <td>0</td>\n",
       "      <td>0.439585</td>\n",
       "      <td>0</td>\n",
       "      <td>0</td>\n",
       "      <td>0</td>\n",
       "      <td>0</td>\n",
       "      <td>0</td>\n",
       "      <td>0</td>\n",
       "      <td>153</td>\n",
       "      <td>5</td>\n",
       "    </tr>\n",
       "  </tbody>\n",
       "</table>\n",
       "<p>5 rows × 22 columns</p>\n",
       "</div>"
      ],
      "text/plain": [
       "   customerID  gender  SeniorCitizen  Partner  Dependents  BeginDate  EndDate  \\\n",
       "0  7590-VHVEG       1              0        1           0 2020-01-01        0   \n",
       "1  5575-GNVDE       0              0        0           0 2017-04-01        0   \n",
       "2  3668-QPYBK       0              0        0           0 2019-10-01        1   \n",
       "3  7795-CFOCW       0              0        0           0 2016-05-01        0   \n",
       "4  9237-HQITU       1              0        0           0 2019-09-01        1   \n",
       "\n",
       "       Type  PaperlessBilling  PaymentMethod  ...  MultipleLines  \\\n",
       "0  0.550192                 1       0.335794  ...              0   \n",
       "1  0.209144                 0       0.228880  ...              0   \n",
       "2  0.550192                 1       0.228880  ...              0   \n",
       "3  0.209144                 0       0.219225  ...              0   \n",
       "4  0.550192                 1       0.335794  ...              0   \n",
       "\n",
       "   InternetService  OnlineSecurity  OnlineBackup  DeviceProtection  \\\n",
       "0         0.343746               0             1                 0   \n",
       "1         0.343746               1             0                 1   \n",
       "2         0.343746               1             1                 0   \n",
       "3         0.343746               1             0                 1   \n",
       "4         0.439585               0             0                 0   \n",
       "\n",
       "   TechSupport  StreamingTV  StreamingMovies  days  months  \n",
       "0            0            0                0    31       1  \n",
       "1            0            0                0  1036      34  \n",
       "2            0            0                0   123       4  \n",
       "3            1            0                0  1371      45  \n",
       "4            0            0                0   153       5  \n",
       "\n",
       "[5 rows x 22 columns]"
      ]
     },
     "metadata": {},
     "output_type": "display_data"
    },
    {
     "data": {
      "text/plain": [
       "0.439585    3096\n",
       "0.343746    2421\n",
       "0.216669    1526\n",
       "Name: InternetService, dtype: int64"
      ]
     },
     "metadata": {},
     "output_type": "display_data"
    },
    {
     "data": {
      "text/plain": [
       "Fiber optic    3096\n",
       "DSL            2421\n",
       "Name: InternetService, dtype: int64"
      ]
     },
     "metadata": {},
     "output_type": "display_data"
    }
   ],
   "source": [
    "display(df.head())\n",
    "display(df.InternetService.value_counts())\n",
    "display(internet.InternetService.value_counts())"
   ]
  },
  {
   "cell_type": "code",
   "execution_count": 24,
   "metadata": {},
   "outputs": [],
   "source": [
    "#Service feature list\n",
    "services = ['PaperlessBilling', 'MultipleLines', 'OnlineSecurity', 'OnlineBackup', 'DeviceProtection', 'TechSupport', 'StreamingTV', 'StreamingMovies']\n",
    "\n",
    "#Create feature for total services used by each individual.\n",
    "df['services'] = df[services].sum(axis=1)"
   ]
  },
  {
   "cell_type": "code",
   "execution_count": 25,
   "metadata": {},
   "outputs": [],
   "source": [
    "#Delete unnecessary features from DataFrame.\n",
    "df.drop(['customerID', 'BeginDate'], inplace=True, axis=1)"
   ]
  },
  {
   "cell_type": "markdown",
   "metadata": {},
   "source": [
    "### Data Preprocessing Summary"
   ]
  },
  {
   "cell_type": "markdown",
   "metadata": {},
   "source": [
    "In this subsection we created new features using the data contained in the DataFrame. Specifically, we created a features with values that relate to the number of days and months that an individual has had a contract with the telecommunications provider, using 2020-02-01 as the current date; we also created a feature that indicates the number of services used by each individual. Once those features were created, we dropped the 'BeginDate' and 'customerID' features from the DataFrame; it was necessary to remove the former to prevent any target leakage from occuring. In the following section, we will carry out some exploratory data analysis to see how our target feature relates to the independant variables."
   ]
  },
  {
   "cell_type": "markdown",
   "metadata": {},
   "source": [
    "## Exploratory Data Analysis"
   ]
  },
  {
   "cell_type": "markdown",
   "metadata": {},
   "source": [
    "In this section we perform exploratory data analysis to understand how our target relates to the independent variables. To start, we will visualize the distribution of positive and negative values in our target feature. We will then examine the correlation of the independant variables with the dependant variable, as well as the distributions of values."
   ]
  },
  {
   "cell_type": "markdown",
   "metadata": {},
   "source": [
    "### Examine Target Distribution"
   ]
  },
  {
   "cell_type": "code",
   "execution_count": 26,
   "metadata": {},
   "outputs": [
    {
     "data": {
      "image/png": "[encoded data removed]",
      "text/plain": [
       "<Figure size 576x360 with 1 Axes>"
      ]
     },
     "metadata": {
      "needs_background": "light"
     },
     "output_type": "display_data"
    }
   ],
   "source": [
    "#Plot class values.\n",
    "fig = plt.figure(figsize=(8, 5))\n",
    "plt.suptitle(\"Target Class Balance Visualization\", fontsize=15, y=.95)\n",
    "sns.countplot(x='EndDate', data=df)\n",
    "plt.xlabel(\"EndDate\", fontsize=12)\n",
    "plt.ylabel(\"Count\", fontsize=12)\n",
    "plt.show()"
   ]
  },
  {
   "cell_type": "markdown",
   "metadata": {},
   "source": [
    "3.1 Notes: From this simple countplot, we can clearly see that there is a moderate class imbalance, with there being more than twice as many individual who haven't churned represented in the dataset as those who have. In developing our model, we will account for this imbalance by tuning the relevant hyperparameter(s). If the model's AUC-ROC score is below .88, we will develop a new model that will be trained on a dataset that has been balanced using the SMOTE method. Of course, even though the AUC-ROC score will be the metric used to judge the suitability of our final model, we will also use other metrics to evaluate our model, including F1 score and Matthew's Correlation Coefficient."
   ]
  },
  {
   "cell_type": "markdown",
   "metadata": {},
   "source": [
    "### Examine Correlations"
   ]
  },
  {
   "cell_type": "code",
   "execution_count": 27,
   "metadata": {},
   "outputs": [
    {
     "data": {
      "image/png": "[encoded data removed]",
      "text/plain": [
       "<Figure size 1080x1080 with 2 Axes>"
      ]
     },
     "metadata": {
      "needs_background": "light"
     },
     "output_type": "display_data"
    }
   ],
   "source": [
    "#Create correlation map.\n",
    "corrmap = df.corr()\n",
    "corr_mask = np.triu(corrmap)\n",
    "f, ax = plt.subplots(figsize=(15, 15))\n",
    "sns.heatmap(corrmap, square=True, mask=corr_mask, cmap=\"Blues\", annot = True)\n",
    "plt.show()"
   ]
  },
  {
   "cell_type": "markdown",
   "metadata": {},
   "source": [
    "3.2 Notes: When plotting the above correlation heatmap, we removed half of the data points as they are simply duplicates. From what we can see, there are only a few features that are highly correlated with one another; in this instance, we take highly correlated to mean that the p value is greater than .6 or less than -.6. While some features are highly correlated with one another, it's important to note that no features are highly correlated with our dependant variable (i.e., 'EndDate'). That being said, the following features are highly correlated with one another:\n",
    "\n",
    "* TotalCharges and MonthlyCharges (.65)\n",
    "* InternetService and MonthlyCharges (.9)\n",
    "* StreamingTV and MonthlyCharges (.63)\n",
    "* StreamingMovies and MonthlyCharges (.63)\n",
    "* Days and TotalCharges (.83)\n",
    "* Days and Type (-.62)\n",
    "* Months and Type (-.62)\n",
    "* Months and TotalCharges (.83)\n",
    "* Months and Days (1)\n",
    "* Services and MonthlyCharges (.8)\n",
    "* Services and TotalCharges (.77)\n",
    "* Services and DeviceProtection(.65)\n",
    "* Services and StreamingTV (.69)\n",
    "* Services and StreamingMovies (.69)\n",
    "\n",
    "The correlations here are quite intuitive, as one would assume, for example, that those with more contracted services would have higher monthly costs. One would also assume that the longer a person's contract was open, the higher their charges would be. Given the multicollinearity between these features, one might chose to drop one of each correlated feature from the DataFrame to reduce computational costs; however, given how few observations and features we have (i.e., 7043 and 20, respectively), we don't believe that the computational costs associated with keeping these features in the DataFrame would be overly burdensome. As such, we will most of these features. \n",
    "\n",
    "There is one feature, however, that we will remove from our DataFrame - that is, the 'months' feature. As we can see from the heatmap, the 'months' and 'days' features are identially correlated with all other features in the DataFrame. Because of this, 'months' would not add any additional useful information to our model."
   ]
  },
  {
   "cell_type": "code",
   "execution_count": 28,
   "metadata": {},
   "outputs": [],
   "source": [
    "#Remove 'months' from DataFrame.\n",
    "df = df.drop('months', axis=1)"
   ]
  },
  {
   "cell_type": "markdown",
   "metadata": {},
   "source": [
    "### Examine Dispersion of Continuous Variables"
   ]
  },
  {
   "cell_type": "code",
   "execution_count": 29,
   "metadata": {},
   "outputs": [
    {
     "data": {
      "image/png": "[encoded data removed]",
      "text/plain": [
       "<Figure size 720x576 with 4 Axes>"
      ]
     },
     "metadata": {
      "needs_background": "light"
     },
     "output_type": "display_data"
    }
   ],
   "source": [
    "#Create list of variables to examine.\n",
    "cont_vars = ['MonthlyCharges', 'TotalCharges', 'days', 'services']\n",
    "\n",
    "#Create boxplots.\n",
    "fig, axs = plt.subplots(2, 2, figsize=(10, 8))\n",
    "axs = axs.flatten()\n",
    "plt.suptitle('Dispersion of Continuous Variables by Target', fontsize=15)\n",
    "\n",
    "for col, ax in zip(cont_vars, axs):\n",
    "    sns.boxplot(x='EndDate', y=col, hue='EndDate', data=df, ax=ax, showmeans=True)\n",
    "    ax.set_xlabel('EndDate', fontsize=12)\n",
    "    ax.set_ylabel(col, fontsize=12)\n",
    "    ax.set_xticks([0, 1])\n",
    "    ax.legend(bbox_to_anchor=(.95, 1), loc='upper left')\n",
    "\n",
    "plt.tight_layout()\n",
    "plt.show()"
   ]
  },
  {
   "cell_type": "markdown",
   "metadata": {},
   "source": [
    "3.3 Notes: From the above boxplots, we can see that the median contract length for individuals who have churned is much lower than the median length for individuals who haven't. And while those who have churned and those who haven't appear to use a similar number of services, those who have churned have higher median monthly charges than those who haven't churned. Perhaps the latter is due to those who haven't churned having longer contract lengths and being 'grandfathered' in with lower monthly service charges. \n",
    "\n",
    "In addition to showing median values, our boxplots show mean values (the green triangles). We can clearly see that those who have churned have a higher mean monthly charge value than those who haven't churned, but lower mean contract lenghts and total charges. Accordingly, one might assume that those with short contract lengths and high monthly charges are more likely to churn than those with longer contract lengths and fewer charges. While this may be a reasonable assumption based no the above boxplots, they must be statistically tested. As such, in the following subsection we will run two two-sample independent t-tests to determine whether the difference in means between the groups is significant.\n",
    "\n",
    "One more point worth noting is that there are a few outliers in the 'TotalCharges', 'services', and 'days' plots. Although some may decide to drop the rows containing thee outliers, we believe that it is worth first training and testing a model based on the entire dataset, since there appear to only be few outliers and they may represent important information. If we find that our later model performs poorly, then we will drop the outliers from our dataset."
   ]
  },
  {
   "cell_type": "markdown",
   "metadata": {},
   "source": [
    "### Test Significance of Mean Differences"
   ]
  },
  {
   "cell_type": "markdown",
   "metadata": {},
   "source": [
    "In this subsection we will be testing two null hypotheses; the first one concerns the 'days' feature, while the second concerns the 'MonthlyCharges' feature. We can formulate our null and alternative hypotheses as follows:\n",
    "\n",
    "**Contract Lengths Test**\n",
    "* Null = There is no difference in mean contract lengths for users who have churned versus users who haven't.\n",
    "* Alternative = There is a significant difference in mean contract lengths for users who have churned vs users who haven't.\n",
    "\n",
    "**Monthly Charges Test**\n",
    "* Null = There is no difference in mean monthly charge amount for users who have churned versus users who haven't.\n",
    "* Alternative = There is a significant difference in mean monthly charge amount for users who have churned vs users who haven't."
   ]
  },
  {
   "cell_type": "code",
   "execution_count": 30,
   "metadata": {},
   "outputs": [
    {
     "data": {
      "image/png": "[encoded data removed]",
      "text/plain": [
       "<Figure size 1080x360 with 2 Axes>"
      ]
     },
     "metadata": {
      "needs_background": "light"
     },
     "output_type": "display_data"
    }
   ],
   "source": [
    "#Examine distributions for each feature.\n",
    "test_vars = ['MonthlyCharges', 'days']\n",
    "fig, axs = plt.subplots(1, 2, figsize=(15, 5))\n",
    "plt.suptitle('Distribution of Test Variable Values', fontsize=15)\n",
    "\n",
    "for col, ax in zip(test_vars, axs):\n",
    "    sns.kdeplot(x=col, hue='EndDate', data=df, ax=ax)\n",
    "    ax.set_ylabel('Density', fontsize=12)\n",
    "    ax.set_xlabel(col, fontsize=12)\n",
    "plt.tight_layout()\n",
    "plt.show()"
   ]
  },
  {
   "cell_type": "markdown",
   "metadata": {},
   "source": [
    "3.4 Notes: From these kernel density estimator plots, we can see that our data is not normally distributed. While ttests assume normal distribution, it is quite robust to non-normally distributed data when the sample size is large (e.g. greater than 50). Since our sample size for both target values is above one-thousand observations, we do not need to normalize our data in order to run a two-sample independent t-test."
   ]
  },
  {
   "cell_type": "code",
   "execution_count": 31,
   "metadata": {},
   "outputs": [],
   "source": [
    "#Create datasets for chruned and not-churned groups.\n",
    "churned = df.loc[df['EndDate'] == 1]\n",
    "not_churned = df.loc[df['EndDate'] == 0]"
   ]
  },
  {
   "cell_type": "code",
   "execution_count": 32,
   "metadata": {},
   "outputs": [],
   "source": [
    "#Create function to run t-test.\n",
    "def ttest(df1, df2, alpha, name):\n",
    "    results = st.ttest_ind(df1, df2)\n",
    "    print(f'P-value of {name} t-test: {results.pvalue}')\n",
    "    if (results.pvalue < alpha):\n",
    "        print(\"We reject the null hypothesis\")\n",
    "    else:\n",
    "        print(\"We fail to reject the null hypothesis\")"
   ]
  },
  {
   "cell_type": "code",
   "execution_count": 33,
   "metadata": {},
   "outputs": [
    {
     "name": "stdout",
     "output_type": "stream",
     "text": [
      "P-value of Contracts Length t-test: 1.5877601609064865e-158\n",
      "We reject the null hypothesis\n"
     ]
    }
   ],
   "source": [
    "#Run Contracts Length Ttest.\n",
    "ttest(not_churned.days, churned.days, .01, 'Contracts Length')"
   ]
  },
  {
   "cell_type": "code",
   "execution_count": 34,
   "metadata": {},
   "outputs": [
    {
     "name": "stdout",
     "output_type": "stream",
     "text": [
      "P-value of Monthly Chargest t-test: 2.706645606888261e-60\n",
      "We reject the null hypothesis\n"
     ]
    }
   ],
   "source": [
    "#Run Monthly Charges Ttest.\n",
    "ttest(not_churned.MonthlyCharges, churned.MonthlyCharges, .01, 'Monthly Chargest')"
   ]
  },
  {
   "cell_type": "markdown",
   "metadata": {},
   "source": [
    "3.4 Notes Continued: In this subsection, we tested two hypotheses regarding the difference in mean monthly charge and contract length values between users who have churned and users who haven't. We set out alpha level to .01, rather than .05, in order to significantly reduce the chance of type 1 errors. In carrying out our tests, we found that both of our null hypotheses can be rejected; in other words, the difference in observed mean monthly charge and contract length values between the two groups is statistically significant. As such, there is reasonable support for the assumption that those users who churn tend to have shorter contract lengths and higher monthly charges than users who don't churn."
   ]
  },
  {
   "cell_type": "markdown",
   "metadata": {},
   "source": [
    "### Exploratory Data Analysis Summary"
   ]
  },
  {
   "cell_type": "markdown",
   "metadata": {},
   "source": [
    "In this section, we explored various aspects of our data. To begin, we examined the distribution of target values in our DataFrame; we found that there are more than twice as many negative observations as positive, which indicates that our dataset is mildly imbalanced. In order to ensure that our later model is properly trained, we will account for this imbalance by tuning the relevant hyperparameter(s); if we find that this method does not work, we will use a combination of SMOTEing and up/downsampling to balance our dataset.\n",
    "\n",
    "Next we examined the correlations between all variables in our dataset. While we did find multicollinearity between certain features, we did not find that any features were highly correlated with our target feature. Additionally, we decided not to drop any features based simply on multicollinearity as the computational burden resulting from keeping these features, given the shape of our DataFrame, should not be significant.\n",
    "\n",
    "Finally, we examined the dispersion of data for the continuous variables using boxplots; we set the 'hue' parameter to 'EndDate' in order to visualize the differences between target groups. From the boxplots we found that the mean and median contract length for individuals who have churned is much lower than the mean and median length for individuals who haven't. We also found that those who have churned have higher median and mean monthly charges than those who haven't churned. In order to determine whether the differences in mean values between the groups are significant, we perform two-sample independent t-tests with an alpha level of .01. As a result of our t-tests, we reject both of our null hypotheses: 1) that there is no difference in mean contract lengths for users who have churned versus users who haven't; and, 2) that there is no difference in mean monthly charge amount for users who have churned versus users who haven't.\n",
    "\n",
    "In the following section, we will build and evaluate various models. In doing so, we will find the optimal hyperparameters for various gradient-boosting base models. We will then try blending and stacking techniques using logistic regression as our meta-estimators. The goal of these techniques is to obtain a better AUC-ROC score than any individual base-model with an ensemble model."
   ]
  },
  {
   "cell_type": "markdown",
   "metadata": {},
   "source": [
    "## Model Development"
   ]
  },
  {
   "cell_type": "markdown",
   "metadata": {},
   "source": [
    "### Split Dataset"
   ]
  },
  {
   "cell_type": "code",
   "execution_count": 35,
   "metadata": {},
   "outputs": [],
   "source": [
    "#Create feature and target sets.\n",
    "y = df['EndDate']\n",
    "X = df.drop('EndDate', axis=1)\n",
    "\n",
    "#Create training and testing datasets.\n",
    "X_train, X_test, y_train, y_test = train_test_split(X, y, random_state=5)"
   ]
  },
  {
   "cell_type": "markdown",
   "metadata": {},
   "source": [
    "### Create Scoring Function for Models"
   ]
  },
  {
   "cell_type": "code",
   "execution_count": 36,
   "metadata": {},
   "outputs": [],
   "source": [
    "def score(y_true, proba, pred, name):\n",
    "    \"\"\"\n",
    "    This function calculates various scores for a given model.\n",
    "    The scores include:\n",
    "    \n",
    "    F1-Score\n",
    "    Matthew's Correlation Coefficient\n",
    "    AUC-ROC Score\n",
    "    \n",
    "    In addition to printing the scores, this function also creates a heatmap of the prediction confusion matrix.\n",
    "    \"\"\"\n",
    "    \n",
    "    #Calculate scores.\n",
    "    f1 = f1_score(y_true, pred)\n",
    "    matt = matthews_corrcoef(y_true, pred)\n",
    "    auc = ros(y_true, proba)\n",
    "    cf_matrix = confusion_matrix(y_true, pred)\n",
    "    \n",
    "    score_df = pd.DataFrame([[f1, auc, matt]], columns=['F1 Score', 'AUC_ROC Score', \"Mathew's Corr.\"], index=[name])\n",
    "    display(score_df)\n",
    "    \n",
    "    #Print confusion matrix with percentages.\n",
    "    fig = plt.figure(figsize=(8, 5))\n",
    "    plt.suptitle('Meta-Model Confusion Matrix', fontsize=15, y=.93)\n",
    "    sns.heatmap(cf_matrix/np.sum(cf_matrix), annot=True, fmt='.2%', cmap='Blues')\n",
    "    plt.show()"
   ]
  },
  {
   "cell_type": "markdown",
   "metadata": {},
   "source": [
    "### Find Optimal Hyperparameters for Base Models with Bayesian Optimization"
   ]
  },
  {
   "cell_type": "markdown",
   "metadata": {},
   "source": [
    "#### Create Helper Function"
   ]
  },
  {
   "cell_type": "code",
   "execution_count": 37,
   "metadata": {},
   "outputs": [],
   "source": [
    "#Create helper function.\n",
    "def tune_model(objective, trials):\n",
    "    \"\"\"This function tunes hyperparameters. \n",
    "    When creating a study, optina will try to maximize the returned value, which will be AUC-ROC score.\n",
    "    Once the specified number of trials is complete, it will return the best model score and associated hyperparameters.\"\"\"\n",
    "    \n",
    "    study = optuna.create_study(direction='maximize')\n",
    "    study.optimize(objective, n_trials=trials)\n",
    "    best_params = study.best_params\n",
    "    best_score = study.best_value\n",
    "    print(f'Best roc-auc score: {best_score}')\n",
    "    print(f'\\nBest parameters: {best_params}')\n",
    "    return best_params"
   ]
  },
  {
   "cell_type": "markdown",
   "metadata": {},
   "source": [
    "#### XGBClassifier Optimization"
   ]
  },
  {
   "cell_type": "code",
   "execution_count": 38,
   "metadata": {},
   "outputs": [],
   "source": [
    "%%skip True #Skip cell since previously run.\n",
    "\n",
    "#Define an objective function to be maximized for XGBClassifier.\n",
    "def objective_xgb(trial):\n",
    "    \n",
    "    \"\"\"\n",
    "    This function, along with the next two, contain the objective, which is to maximize AUC-ROC score.\n",
    "    Here we search a range of hyperparameters and values to find the ones that provide the highest scores in the specified number of trials.\n",
    "    We perform cross-validation in order to obtain more accurate scores for each trial.\n",
    "    \"\"\"\n",
    "    \n",
    "    #Set up parameters.\n",
    "    splits = 5\n",
    "    kf = StratifiedKFold(n_splits=splits, shuffle=True, random_state=5)\n",
    "    \n",
    "    #Create array of zeros for storing out-of-fold predictions.\n",
    "    oof_preds = np.zeros(X_train.shape[0])\n",
    "    mean_auc = 0\n",
    "    \n",
    "    #Define parameter space.\n",
    "    param_space = {\n",
    "        'max_depth': trial.suggest_int(\"max_depth\", 1, 10, 1),\n",
    "        'gamma': trial.suggest_float('gamma', 0,1),\n",
    "        'reg_alpha' : trial.suggest_float('reg_alpha', 0,50),\n",
    "        'reg_lambda' : trial.suggest_float('reg_lambda', 10,100),\n",
    "        'colsample_bytree' : trial.suggest_float('colsample_bytree', 0,1),\n",
    "        'min_child_weight' : trial.suggest_float('min_child_weight', 0, 5),\n",
    "        'learning_rate': trial.suggest_float('learning_rate', 0, .15),\n",
    "        'tree_method':'gpu_hist', \n",
    "        'gpu_id': 0,\n",
    "        'random_state': 5,\n",
    "        'n_estimators' : 10000,\n",
    "        'max_bin' : trial.suggest_int('max_bin', 200, 550, 1),\n",
    "        'objective': 'binary:logistic',\n",
    "        'use_label_encoder':False,\n",
    "        'scale_pos_weight': trial.suggest_float('scale_pos_weight', 1, 5)\n",
    "    }\n",
    "    \n",
    "    #Generate folds, train model, and make predictions for each fold.\n",
    "    for num, (train_indx, valid_indx) in tqdm(enumerate(kf.split(X_train, y_train))):\n",
    "        X_t, X_v = X_train.iloc[train_indx], X_train.iloc[valid_indx]\n",
    "        y_t, y_v = y_train.iloc[train_indx], y_train.iloc[valid_indx]\n",
    "        \n",
    "        model = xgb.XGBClassifier(**param_space)\n",
    "        model.fit(X_t, y_t.values.ravel(),\n",
    "                 verbose=False,\n",
    "                 eval_set=[(X_v, y_v.values.ravel())],\n",
    "                 eval_metric='auc',\n",
    "                 early_stopping_rounds=300)\n",
    "        \n",
    "        #Obtain out of fold predictions from validation set.\n",
    "        #This is used for hyperparameter optimization.\n",
    "        oof_preds[valid_indx] = model.predict_proba(X_v)[:, 1]\n",
    "        \n",
    "        #Obtain score for model fold.\n",
    "        fold_auc = ros(y_v, oof_preds[valid_indx])\n",
    "        \n",
    "        #Mean score for all folds.\n",
    "        mean_auc += fold_auc / splits\n",
    "        \n",
    "    print(f\"\\nOverall ROC AUC: {mean_auc}\")\n",
    "    return mean_auc\n",
    "\n",
    "#Run trials\n",
    "xgb_optuna = tune_model(objective_xgb, 100)"
   ]
  },
  {
   "cell_type": "markdown",
   "metadata": {},
   "source": [
    "#### CatBoostClassifier Optimization"
   ]
  },
  {
   "cell_type": "code",
   "execution_count": 39,
   "metadata": {},
   "outputs": [],
   "source": [
    "%%skip True #Skip cell since previously run.\n",
    "\n",
    "#Define an objective function to be maximized for XGBClassifier.\n",
    "def objective_cat(trial):\n",
    "    \n",
    "    #Set up parameters.\n",
    "    splits = 5\n",
    "    kf = StratifiedKFold(n_splits=splits, shuffle=True, random_state=5)\n",
    "    \n",
    "    #Create array of zeros for storing out-of-fold predictions.\n",
    "    oof_preds = np.zeros(X_train.shape[0])\n",
    "    mean_auc = 0\n",
    "    \n",
    "    #Define parameter space.\n",
    "    param_space = {\n",
    "        'max_depth': trial.suggest_int(\"max_depth\", 1, 10, 1),\n",
    "        'reg_lambda' : trial.suggest_float('reg_lambda', 10,100),\n",
    "        'learning_rate': trial.suggest_float('learning_rate', 0, .15),\n",
    "        'n_estimators': 10000,\n",
    "        'task_type':'GPU', \n",
    "        'devices': '0:1',\n",
    "        'random_state': 5,\n",
    "        'max_bin' : trial.suggest_int('max_bin', 200, 550, 1),\n",
    "        'subsample' : trial.suggest_float('subsample', 0, 1),\n",
    "        'eval_metric': 'AUC',\n",
    "        'bootstrap_type':'Poisson',\n",
    "        'scale_pos_weight': trial.suggest_float('scale_pos_weight', 1, 5)\n",
    "    }\n",
    "    \n",
    "    #Generate folds, train model, and make predictions for each fold.\n",
    "    for num, (train_indx, valid_indx) in tqdm(enumerate(kf.split(X_train, y_train))):\n",
    "        X_t, X_v = X.loc[train_indx], X.loc[valid_indx]\n",
    "        y_t, y_v = y.loc[train_indx], y.loc[valid_indx]\n",
    "        \n",
    "        eval_dataset = Pool(X_v, y_v)\n",
    "        \n",
    "        model = CatBoostClassifier(**param_space)\n",
    "        model.fit(X_t, y_t,\n",
    "                 verbose=False,\n",
    "                 eval_set=eval_dataset,\n",
    "                 early_stopping_rounds=300)\n",
    "        \n",
    "        #Obtain out of fold predictions from validation set.\n",
    "        #This is used for hyperparameter optimization.\n",
    "        oof_preds[valid_indx] = model.predict_proba(X_v)[:, 1]\n",
    "        \n",
    "        #Obtain score for model fold.\n",
    "        fold_auc = ros(y_v, oof_preds[valid_indx])\n",
    "        \n",
    "        #Mean score for all folds.\n",
    "        mean_auc += fold_auc / splits\n",
    "        \n",
    "    print(f\"\\nOverall ROC AUC: {mean_auc}\")\n",
    "    \n",
    "    return mean_auc\n",
    "\n",
    "#Run trials\n",
    "cat_optuna = tune_model(objective_cat, 100)"
   ]
  },
  {
   "cell_type": "markdown",
   "metadata": {},
   "source": [
    "#### LGBMClassifier Optimization"
   ]
  },
  {
   "cell_type": "code",
   "execution_count": 40,
   "metadata": {},
   "outputs": [],
   "source": [
    "%%skip True #Skip cell since previously run.\n",
    "\n",
    "#Define an objective function to be maximized for XGBClassifier.\n",
    "def objective_lbgm(trial):\n",
    "    \n",
    "    #Set up parameters.\n",
    "    splits = 5\n",
    "    kf = StratifiedKFold(n_splits=splits, shuffle=False, random_state=5)\n",
    "    \n",
    "    #Create array of zeros for storing out-of-fold predictions.\n",
    "    oof_preds = np.zeros(X.shape[0])\n",
    "    mean_auc = 0\n",
    "    \n",
    "    #Define parameter space.\n",
    "    lgbm_params = {  \"objective\": trial.suggest_categorical(\"objective\", ['binary']),\n",
    "                     \"boosting_type\": trial.suggest_categorical(\"boosting_type\", ['gbdt']),\n",
    "                     \"num_leaves\": trial.suggest_int(\"num_leaves\", 2, 256),\n",
    "                     \"max_depth\": trial.suggest_int(\"max_depth\", 1, 5),\n",
    "                     \"learning_rate\": trial.suggest_float(\"learning_rate\", 0.1, 1, step=0.01),\n",
    "                     \"n_estimators\": 15000,        \n",
    "                     \"reg_alpha\": trial.suggest_float(\"reg_alpha\", 0.1, 100.0, step=0.1),\n",
    "                     \"reg_lambda\": trial.suggest_float(\"reg_lambda\", 0.1, 100.0, step=0.1),\n",
    "                     \"random_state\": 5,\n",
    "                     \"subsample\": trial.suggest_float(\"subsample\", 0.6, 1, step=0.01),\n",
    "                     \"colsample_bytree\": trial.suggest_float(\"colsample_bytree\", 0.05, 1, step=0.01),\n",
    "                     'min_child_samples': trial.suggest_int('min_child_samples', 5, 100),\n",
    "                     'min_child_weight': trial.suggest_categorical('min_child_weight', [256]),\n",
    "                     'max_bin' : trial.suggest_int('max_bin', 50, 250),\n",
    "                     'scale_pos_weight' : trial.suggest_int('scale_pos_weight', 1, 5, 1)\n",
    "}\n",
    "    \n",
    "    #Generate folds, train model, and make predictions for each fold.\n",
    "    for num, (train_indx, valid_indx) in tqdm(enumerate(kf.split(X_train, y_train))):\n",
    "        X_t, X_v = X_train.iloc[train_indx], X_train.iloc[valid_indx]\n",
    "        y_t, y_v = y_train.iloc[train_indx], y_train.iloc[valid_indx]\n",
    "        \n",
    "        model = lgbm.LGBMClassifier(**lgbm_params)\n",
    "        model.fit(X_t, y_t.values.ravel(),\n",
    "                 verbose=False,\n",
    "                 eval_set=[(X_v, y_v.values.ravel())],\n",
    "                 eval_metric='auc',\n",
    "                 early_stopping_rounds=300)\n",
    "        \n",
    "        #Obtain out of fold predictions from validation set.\n",
    "        #This is used for hyperparameter optimization.\n",
    "        oof_preds[valid_indx] = model.predict_proba(X_v)[:, 1]\n",
    "        \n",
    "        #Obtain score for model fold.\n",
    "        fold_auc = ros(y_v, oof_preds[valid_indx])\n",
    "        \n",
    "        #Mean score for all folds.\n",
    "        mean_auc += fold_auc / splits\n",
    "        \n",
    "    print(f\"\\nOverall ROC AUC: {mean_auc}\")\n",
    "    \n",
    "    return mean_auc\n",
    "\n",
    "#Run trials\n",
    "lgbm_optuna = tune_model(objective_lbgm, 300)"
   ]
  },
  {
   "cell_type": "markdown",
   "metadata": {},
   "source": [
    "#### Obtain Scores for Base Models"
   ]
  },
  {
   "cell_type": "markdown",
   "metadata": {},
   "source": [
    "4.3.5 Notes: In the previous subsections we used optuna to identify the optimal hyperparameters for various gradient-boosting algorithms. In this subsection, we will use these hyperparameters to train and test each of these models."
   ]
  },
  {
   "cell_type": "code",
   "execution_count": 41,
   "metadata": {},
   "outputs": [],
   "source": [
    "#Create hyperparameter dictionaries for models.\n",
    "xgb_params = {'max_depth': 2, \n",
    "             'gamma': 0.0004954460923487494, \n",
    "             'reg_alpha': 1.0174751863783722, \n",
    "             'reg_lambda': 60.246409026789394, \n",
    "             'colsample_bytree': 0.8179973664461931, \n",
    "             'min_child_weight': 2.2244078153736115, \n",
    "             'learning_rate': 0.12715460243277876, \n",
    "             'max_bin': 520, \n",
    "             'scale_pos_weight': 3.9870145825539733,\n",
    "             'tree_method':'gpu_hist', \n",
    "             'gpu_id': 0,\n",
    "             'random_state': 5,\n",
    "             'n_estimators' : 10000,\n",
    "             'objective': 'binary:logistic',\n",
    "             'use_label_encoder':False,\n",
    "             'verbosity': 0}\n",
    "\n",
    "cat_params = {'max_depth': 4, \n",
    "              'reg_lambda': 43.98307100437114, \n",
    "              'learning_rate': 0.13713609324602802, \n",
    "              'max_bin': 346, \n",
    "              'subsample': 0.5341001774632357, \n",
    "              'scale_pos_weight': 1.0325655806558183,\n",
    "              'n_estimators': 10000,\n",
    "              'task_type':'GPU', \n",
    "              'devices': '0:1',\n",
    "              'random_state': 5,\n",
    "              'eval_metric': 'AUC',\n",
    "              'bootstrap_type':'Poisson',\n",
    "              'verbose': False}\n",
    "\n",
    "lgbm_params = {'objective': 'binary', \n",
    "               'boosting_type': 'gbdt', \n",
    "               'num_leaves': 158, \n",
    "               'max_depth': 5, \n",
    "               'learning_rate': 0.59, \n",
    "               'reg_alpha': 4.5, \n",
    "               'reg_lambda': 20.6, \n",
    "               'subsample': 0.79, \n",
    "               'colsample_bytree': 0.9600000000000001, \n",
    "               'min_child_samples': 42, \n",
    "               'min_child_weight': 256, \n",
    "               'max_bin': 237,\n",
    "               'scale_pos_weight': 5,\n",
    "               'n_estimators': 15000,\n",
    "               'random_state' : 5}\n",
    "\n",
    "#Create list of models.\n",
    "models = [('XGBoost', xgb.XGBClassifier(**xgb_params)),\n",
    "          ('CatBoost', CatBoostClassifier(**cat_params)),\n",
    "          ('LGB', lgbm.LGBMClassifier(**lgbm_params))]"
   ]
  },
  {
   "cell_type": "code",
   "execution_count": 42,
   "metadata": {},
   "outputs": [
    {
     "name": "stdout",
     "output_type": "stream",
     "text": [
      "---------------XGBoost Model Scores---------------\n"
     ]
    },
    {
     "data": {
      "text/html": [
       "<div>\n",
       "<style scoped>\n",
       "    .dataframe tbody tr th:only-of-type {\n",
       "        vertical-align: middle;\n",
       "    }\n",
       "\n",
       "    .dataframe tbody tr th {\n",
       "        vertical-align: top;\n",
       "    }\n",
       "\n",
       "    .dataframe thead th {\n",
       "        text-align: right;\n",
       "    }\n",
       "</style>\n",
       "<table border=\"1\" class=\"dataframe\">\n",
       "  <thead>\n",
       "    <tr style=\"text-align: right;\">\n",
       "      <th></th>\n",
       "      <th>F1 Score</th>\n",
       "      <th>AUC_ROC Score</th>\n",
       "      <th>Mathew's Corr.</th>\n",
       "    </tr>\n",
       "  </thead>\n",
       "  <tbody>\n",
       "    <tr>\n",
       "      <th>XGBoost</th>\n",
       "      <td>0.829615</td>\n",
       "      <td>0.959434</td>\n",
       "      <td>0.764733</td>\n",
       "    </tr>\n",
       "  </tbody>\n",
       "</table>\n",
       "</div>"
      ],
      "text/plain": [
       "         F1 Score  AUC_ROC Score  Mathew's Corr.\n",
       "XGBoost  0.829615       0.959434        0.764733"
      ]
     },
     "metadata": {},
     "output_type": "display_data"
    },
    {
     "data": {
      "image/png": "[encoded data removed]",
      "text/plain": [
       "<Figure size 576x360 with 2 Axes>"
      ]
     },
     "metadata": {
      "needs_background": "light"
     },
     "output_type": "display_data"
    },
    {
     "name": "stdout",
     "output_type": "stream",
     "text": [
      "\n",
      "\n",
      "---------------CatBoost Model Scores---------------\n"
     ]
    },
    {
     "data": {
      "text/html": [
       "<div>\n",
       "<style scoped>\n",
       "    .dataframe tbody tr th:only-of-type {\n",
       "        vertical-align: middle;\n",
       "    }\n",
       "\n",
       "    .dataframe tbody tr th {\n",
       "        vertical-align: top;\n",
       "    }\n",
       "\n",
       "    .dataframe thead th {\n",
       "        text-align: right;\n",
       "    }\n",
       "</style>\n",
       "<table border=\"1\" class=\"dataframe\">\n",
       "  <thead>\n",
       "    <tr style=\"text-align: right;\">\n",
       "      <th></th>\n",
       "      <th>F1 Score</th>\n",
       "      <th>AUC_ROC Score</th>\n",
       "      <th>Mathew's Corr.</th>\n",
       "    </tr>\n",
       "  </thead>\n",
       "  <tbody>\n",
       "    <tr>\n",
       "      <th>CatBoost</th>\n",
       "      <td>0.834091</td>\n",
       "      <td>0.96035</td>\n",
       "      <td>0.783153</td>\n",
       "    </tr>\n",
       "  </tbody>\n",
       "</table>\n",
       "</div>"
      ],
      "text/plain": [
       "          F1 Score  AUC_ROC Score  Mathew's Corr.\n",
       "CatBoost  0.834091        0.96035        0.783153"
      ]
     },
     "metadata": {},
     "output_type": "display_data"
    },
    {
     "data": {
      "image/png": "[encoded data removed]",
      "text/plain": [
       "<Figure size 576x360 with 2 Axes>"
      ]
     },
     "metadata": {
      "needs_background": "light"
     },
     "output_type": "display_data"
    },
    {
     "name": "stdout",
     "output_type": "stream",
     "text": [
      "\n",
      "\n",
      "---------------LGB Model Scores---------------\n"
     ]
    },
    {
     "data": {
      "text/html": [
       "<div>\n",
       "<style scoped>\n",
       "    .dataframe tbody tr th:only-of-type {\n",
       "        vertical-align: middle;\n",
       "    }\n",
       "\n",
       "    .dataframe tbody tr th {\n",
       "        vertical-align: top;\n",
       "    }\n",
       "\n",
       "    .dataframe thead th {\n",
       "        text-align: right;\n",
       "    }\n",
       "</style>\n",
       "<table border=\"1\" class=\"dataframe\">\n",
       "  <thead>\n",
       "    <tr style=\"text-align: right;\">\n",
       "      <th></th>\n",
       "      <th>F1 Score</th>\n",
       "      <th>AUC_ROC Score</th>\n",
       "      <th>Mathew's Corr.</th>\n",
       "    </tr>\n",
       "  </thead>\n",
       "  <tbody>\n",
       "    <tr>\n",
       "      <th>LGB</th>\n",
       "      <td>0.678275</td>\n",
       "      <td>0.902454</td>\n",
       "      <td>0.551315</td>\n",
       "    </tr>\n",
       "  </tbody>\n",
       "</table>\n",
       "</div>"
      ],
      "text/plain": [
       "     F1 Score  AUC_ROC Score  Mathew's Corr.\n",
       "LGB  0.678275       0.902454        0.551315"
      ]
     },
     "metadata": {},
     "output_type": "display_data"
    },
    {
     "data": {
      "image/png": "[encoded data removed]",
      "text/plain": [
       "<Figure size 576x360 with 2 Axes>"
      ]
     },
     "metadata": {
      "needs_background": "light"
     },
     "output_type": "display_data"
    },
    {
     "name": "stdout",
     "output_type": "stream",
     "text": [
      "\n",
      "\n"
     ]
    }
   ],
   "source": [
    "#Obtain scores for all base models.\n",
    "for name, model in models:        \n",
    "    #Train model.\n",
    "    model = model\n",
    "    model.fit(X_train, y_train)\n",
    "    \n",
    "    #Obtain predictions on test set.\n",
    "    pred = model.predict(X_test)\n",
    "    pred_proba = model.predict_proba(X_test)[:, 1]\n",
    "    \n",
    "    print(\"-\" * 15 + f\"{name} Model Scores\" + \"-\" * 15)\n",
    "    score(y_test, pred_proba, pred, name)\n",
    "    print()\n",
    "    print()"
   ]
  },
  {
   "cell_type": "markdown",
   "metadata": {},
   "source": [
    "4.3.5 Notes Continued: In this subsection we obtained various scores for our base models on the testing dataset. For information purposes, we will quickly describe what each score is meant to reflect.\n",
    "\n",
    "* F1 Score: This represents the harmonic mean of a model's precision and recall scores. It takes into account a model's true positive rate, false positive rate, and false negative rate. The F1 score can range anywhere between 1 and 0, where 1 indicates perfect precision (i.e., true positives / predited positives) and recall (i.e., true positives / actial positives), and 0 indicates that either precision or recall is 0. \n",
    "\n",
    "\n",
    "* AUC-ROC: This represents the area under the receiver operating characteristic curve, which is a graph that shows the performance of a classification model at all thresholds. The curve plots true positive rate versus false positive rate. Ideally, we would like a model's AUC-ROC score to be as close to 1 as possible.\n",
    "\n",
    "\n",
    "* Matthew's Correlation Coefficient (MCC): This coefficient takes into account one extra parameter than F1 - that is, the true negative rate. In essence, a high MCC score is only obtained if a model's predection obtains good results in all four confusion matrix categories (i.e., true and false positive and negative rates). An MCC score can range between -1 and 1, where a value of 1 indicates perfect prediction, 0 indicates random prediction, and -1 indicates inverse prediction. \n",
    "\n",
    "Given the goal of this project, we would ideally like our model to have a high true positive rate and low false negative rate. Of the above models, the XGBoost model provides the best results in that regard. Although it's AUC-ROC, F1, and MCC scores are slightly lower than those of the CatBoost model, it has a higher true positive rate and lower false negative rate. That being said, if we are to judge each model solely according the the AUC-ROC score, then the CatBoost model is currently the best performing. Assuming that Telecom is primarily concerned with finding a model that provides the higest AUC-ROC score, we will consider the CatBoost model to be the best performing model so far.\n",
    "\n",
    "It should be noted that, even though our classes are slightly imbalanced, hyperparameter optimization appears to have helped us train the model in such a way that accomodates this imbalance. In the following sections, we will attempt to obtain an even higher AUC-ROC score than the CatBoost model's score through stacking and blending. If these techniques do not provide better results, then we will recommend that Telecom deploy the CatBoost model - that is, if they are only concerned with the AUC-ROC score. If they would like a similarly performing model, in terms of AUC-ROC, though more balanced, then we would recomend the XGBoost model."
   ]
  },
  {
   "cell_type": "markdown",
   "metadata": {},
   "source": [
    "### Model Blending"
   ]
  },
  {
   "cell_type": "markdown",
   "metadata": {},
   "source": [
    "A blended model is an ensemble of models in which the meta-model is trained on predictions made by the base models on a holdout dataset (e.g., the validation dataset). In this section, we will use the optimal hyperparameters idenfitied for our base models in the previous subsection to generate predictions from each model on the validation dataset. We will then feed those predictions to our meta-estimator (logistic regression) and obtain that model's AUC-ROC score. Finally, we will test our meta-model using the test set."
   ]
  },
  {
   "cell_type": "markdown",
   "metadata": {},
   "source": [
    "#### Create Function for Model Fitting"
   ]
  },
  {
   "cell_type": "code",
   "execution_count": 43,
   "metadata": {},
   "outputs": [],
   "source": [
    "def fit_models(models, X_train, X_valid, y_train, y_valid):\n",
    "\n",
    "    \"\"\"\n",
    "    This function serves to fit base-models on the training dataset and obtain predictions on the validation dataset.\n",
    "    These predictions are used to train a meta-estimator, which is logistic regression in this case. \n",
    "    The trained meta-estimator is then returned.\n",
    "    \"\"\"\n",
    "    \n",
    "    #Create variable in which to store predictions for meta-model.\n",
    "    preds_for_meta = []\n",
    "    \n",
    "    #Loop through models in model list.\n",
    "    for name, model in models:\n",
    "        \n",
    "        #Fit model and obtain predictions.\n",
    "        model.fit(X_train, y_train)\n",
    "        pred = model.predict_proba(X_valid)[:, 1]\n",
    "        \n",
    "        #Obtain base model roc score.\n",
    "        roc_base = ros(y_valid, pred)\n",
    "        \n",
    "        print(f'{name} score: {roc_base}')\n",
    "        \n",
    "        #Reshape prediction into single-column matrix.\n",
    "        pred = pred.reshape(len(pred), 1)\n",
    "        \n",
    "        #Append prediction to varible for meta-model.\n",
    "        preds_for_meta.append(pred)\n",
    "        \n",
    "    #Create 2D array from predictions.\n",
    "    meta_features = np.hstack(preds_for_meta)\n",
    "    \n",
    "    #Define blender for model.\n",
    "    meta_model = LogisticRegression(max_iter=10000)\n",
    "    \n",
    "    #Fit meta model on predictions from base models.\n",
    "    meta_model.fit(meta_features, y_valid)\n",
    "    \n",
    "    #Obtain predictions and print scores.\n",
    "    preds_proba = meta_model.predict_proba(meta_features)[:, 1]\n",
    "    preds = meta_model.predict(meta_features)\n",
    "    \n",
    "    score(y_valid, preds_proba, preds, 'meta_model_train')\n",
    "    \n",
    "    return meta_model"
   ]
  },
  {
   "cell_type": "markdown",
   "metadata": {},
   "source": [
    "#### Create Function for Meta-Model Testing"
   ]
  },
  {
   "cell_type": "code",
   "execution_count": 44,
   "metadata": {},
   "outputs": [],
   "source": [
    "def meta_predict(models, meta_model, X_test):\n",
    "    \n",
    "    \"\"\"\n",
    "    Using the previously returned meta-estimator, this function carries out the 'blending'.\n",
    "    We first obtain predictions on the test set from the base models. These predictions are used as features for the meta-estimator.\n",
    "    The trained meta-estimator then makes predictions based on the new features, and scores are displayed.\n",
    "    \"\"\"\n",
    "    \n",
    "    #Variable to store base models' test predictions.\n",
    "    preds_for_meta = []\n",
    "    \n",
    "    #Loop through models to make predictions.\n",
    "    for name, model in models:\n",
    "        \n",
    "        #Make predictions with base models.\n",
    "        pred = model.predict_proba(X_test)[:, 1]\n",
    "        \n",
    "        #Reshape prediction.\n",
    "        pred = pred.reshape(len(pred), 1)\n",
    "        \n",
    "        #Append predition to meta-model prediction list.\n",
    "        preds_for_meta.append(pred)\n",
    "        \n",
    "    #Reshape all predictions into 2D array.\n",
    "    meta_features = np.hstack(preds_for_meta)\n",
    "    \n",
    "    #Make prediction using meta-model.\n",
    "    meta_preds_proba = meta_model.predict_proba(meta_features)[:, 1]\n",
    "    meta_preds = meta_model.predict(meta_features)\n",
    "    \n",
    "    #Display scores for meta-model on test set.\n",
    "    score(y_test, meta_preds_proba, meta_preds, 'meta_model_test')"
   ]
  },
  {
   "cell_type": "markdown",
   "metadata": {},
   "source": [
    "#### Split Training Data into Train and Validation Sets"
   ]
  },
  {
   "cell_type": "markdown",
   "metadata": {},
   "source": [
    "4.4.3 Notes: Model blending requres us to use predictions from a validation set, instead of out-of-fold training sets, as features for our meta-model. As such, we need to further split our training data into training and validation sets. This will only be relevant for the model blending section; for model stacking, we will ensure that we only have training and testing datasets, the former of which we will use cross-validation on to obtain out-of-fold predictions."
   ]
  },
  {
   "cell_type": "code",
   "execution_count": 45,
   "metadata": {},
   "outputs": [],
   "source": [
    "X_train, X_valid, y_train, y_valid = train_test_split(X_train, y_train, random_state=5)"
   ]
  },
  {
   "cell_type": "markdown",
   "metadata": {},
   "source": [
    "#### Train Meta-Model"
   ]
  },
  {
   "cell_type": "code",
   "execution_count": 46,
   "metadata": {},
   "outputs": [
    {
     "name": "stdout",
     "output_type": "stream",
     "text": [
      "XGBoost score: 0.9572135764043278\n",
      "CatBoost score: 0.9495094115903365\n",
      "LGB score: 0.8509589447161702\n"
     ]
    },
    {
     "data": {
      "text/html": [
       "<div>\n",
       "<style scoped>\n",
       "    .dataframe tbody tr th:only-of-type {\n",
       "        vertical-align: middle;\n",
       "    }\n",
       "\n",
       "    .dataframe tbody tr th {\n",
       "        vertical-align: top;\n",
       "    }\n",
       "\n",
       "    .dataframe thead th {\n",
       "        text-align: right;\n",
       "    }\n",
       "</style>\n",
       "<table border=\"1\" class=\"dataframe\">\n",
       "  <thead>\n",
       "    <tr style=\"text-align: right;\">\n",
       "      <th></th>\n",
       "      <th>F1 Score</th>\n",
       "      <th>AUC_ROC Score</th>\n",
       "      <th>Mathew's Corr.</th>\n",
       "    </tr>\n",
       "  </thead>\n",
       "  <tbody>\n",
       "    <tr>\n",
       "      <th>meta_model_train</th>\n",
       "      <td>0.828528</td>\n",
       "      <td>0.956914</td>\n",
       "      <td>0.773454</td>\n",
       "    </tr>\n",
       "  </tbody>\n",
       "</table>\n",
       "</div>"
      ],
      "text/plain": [
       "                  F1 Score  AUC_ROC Score  Mathew's Corr.\n",
       "meta_model_train  0.828528       0.956914        0.773454"
      ]
     },
     "metadata": {},
     "output_type": "display_data"
    },
    {
     "data": {
      "image/png": "[encoded data removed]",
      "text/plain": [
       "<Figure size 576x360 with 2 Axes>"
      ]
     },
     "metadata": {
      "needs_background": "light"
     },
     "output_type": "display_data"
    }
   ],
   "source": [
    "#Obtain meta_model.\n",
    "meta_mod = fit_models(models, X_train, X_valid, y_train, y_valid)"
   ]
  },
  {
   "cell_type": "markdown",
   "metadata": {},
   "source": [
    "#### Test Meta-Model"
   ]
  },
  {
   "cell_type": "code",
   "execution_count": 47,
   "metadata": {},
   "outputs": [
    {
     "data": {
      "text/html": [
       "<div>\n",
       "<style scoped>\n",
       "    .dataframe tbody tr th:only-of-type {\n",
       "        vertical-align: middle;\n",
       "    }\n",
       "\n",
       "    .dataframe tbody tr th {\n",
       "        vertical-align: top;\n",
       "    }\n",
       "\n",
       "    .dataframe thead th {\n",
       "        text-align: right;\n",
       "    }\n",
       "</style>\n",
       "<table border=\"1\" class=\"dataframe\">\n",
       "  <thead>\n",
       "    <tr style=\"text-align: right;\">\n",
       "      <th></th>\n",
       "      <th>F1 Score</th>\n",
       "      <th>AUC_ROC Score</th>\n",
       "      <th>Mathew's Corr.</th>\n",
       "    </tr>\n",
       "  </thead>\n",
       "  <tbody>\n",
       "    <tr>\n",
       "      <th>meta_model_test</th>\n",
       "      <td>0.821192</td>\n",
       "      <td>0.956917</td>\n",
       "      <td>0.760771</td>\n",
       "    </tr>\n",
       "  </tbody>\n",
       "</table>\n",
       "</div>"
      ],
      "text/plain": [
       "                 F1 Score  AUC_ROC Score  Mathew's Corr.\n",
       "meta_model_test  0.821192       0.956917        0.760771"
      ]
     },
     "metadata": {},
     "output_type": "display_data"
    },
    {
     "data": {
      "image/png": "[encoded data removed]",
      "text/plain": [
       "<Figure size 576x360 with 2 Axes>"
      ]
     },
     "metadata": {
      "needs_background": "light"
     },
     "output_type": "display_data"
    }
   ],
   "source": [
    "#Test meta-model\n",
    "meta_predict(models, meta_mod, X_test)"
   ]
  },
  {
   "cell_type": "markdown",
   "metadata": {
    "tags": []
   },
   "source": [
    "#### Model Blending Summary"
   ]
  },
  {
   "cell_type": "markdown",
   "metadata": {},
   "source": [
    "Based on the scores and confusion matrix in the previous subsection, it appears that our blended model produced a slighty lower scores on the testing dataset across than our CatBoost model; however, it is a significant improvement over the LGBM model. Our assumption was that by blending, the strengths of each model would combine to provide a higher score than any individual base model; however, it may be that our base models weren't sufficiently fine tuned in such a way that one model's inaccurate predictions were accurately predicted by another. \n",
    "\n",
    "In any case, the simple Catboost model remains the best performer. In the next section, we will use the stacking method with the same base- and meta-models to see if we can obtain a higher AUC-ROC score. "
   ]
  },
  {
   "cell_type": "markdown",
   "metadata": {},
   "source": [
    "### Model Stacking"
   ]
  },
  {
   "cell_type": "markdown",
   "metadata": {},
   "source": [
    "Model stacking is an ensemble method by which a meta-model is trained on out-of-fold predictions made by base models during k-fold cross-validation. In this section, we will first train and test a stacked model using Sklearn's StackingClassifier. We will then train and test a hand-built model to see if we obtain similar results. Since we are using cross-validation and out-of-fold predictions to train our model, we no longer need a validation dataset. In order to train our models on the maximum number of observations, let us resplit our dataset into the original training and testing sets."
   ]
  },
  {
   "cell_type": "code",
   "execution_count": 48,
   "metadata": {},
   "outputs": [],
   "source": [
    "#Create training and testing datasets.\n",
    "X_train, X_test, y_train, y_test = train_test_split(X, y, random_state=5)"
   ]
  },
  {
   "cell_type": "markdown",
   "metadata": {},
   "source": [
    "#### Stacking with Sklearn's StackingClassifier"
   ]
  },
  {
   "cell_type": "code",
   "execution_count": 49,
   "metadata": {},
   "outputs": [
    {
     "data": {
      "text/html": [
       "<div>\n",
       "<style scoped>\n",
       "    .dataframe tbody tr th:only-of-type {\n",
       "        vertical-align: middle;\n",
       "    }\n",
       "\n",
       "    .dataframe tbody tr th {\n",
       "        vertical-align: top;\n",
       "    }\n",
       "\n",
       "    .dataframe thead th {\n",
       "        text-align: right;\n",
       "    }\n",
       "</style>\n",
       "<table border=\"1\" class=\"dataframe\">\n",
       "  <thead>\n",
       "    <tr style=\"text-align: right;\">\n",
       "      <th></th>\n",
       "      <th>F1 Score</th>\n",
       "      <th>AUC_ROC Score</th>\n",
       "      <th>Mathew's Corr.</th>\n",
       "    </tr>\n",
       "  </thead>\n",
       "  <tbody>\n",
       "    <tr>\n",
       "      <th>StackingClassifier</th>\n",
       "      <td>0.828508</td>\n",
       "      <td>0.962385</td>\n",
       "      <td>0.772029</td>\n",
       "    </tr>\n",
       "  </tbody>\n",
       "</table>\n",
       "</div>"
      ],
      "text/plain": [
       "                    F1 Score  AUC_ROC Score  Mathew's Corr.\n",
       "StackingClassifier  0.828508       0.962385        0.772029"
      ]
     },
     "metadata": {},
     "output_type": "display_data"
    },
    {
     "data": {
      "image/png": "[encoded data removed]",
      "text/plain": [
       "<Figure size 576x360 with 2 Axes>"
      ]
     },
     "metadata": {
      "needs_background": "light"
     },
     "output_type": "display_data"
    }
   ],
   "source": [
    "#Build a StackingClassifier.\n",
    "clf = StackingClassifier(estimators=models, \n",
    "                             final_estimator=LogisticRegression(), \n",
    "                             cv=3)\n",
    "\n",
    "clf.fit(X_train, y_train)\n",
    "pred_proba = clf.predict_proba(X_test)[:, 1]\n",
    "pred = clf.predict(X_test)\n",
    "\n",
    "score(y_test, pred_proba, pred, 'StackingClassifier')"
   ]
  },
  {
   "cell_type": "markdown",
   "metadata": {},
   "source": [
    "4.5.1 Notes: From the StackingClassifier scores, we can see that our stacked model actually performs better in terms of AUC-ROC score than the blended test model and our CatBoost model. Whereas the CatBoost model's AUC-ROC score was approximately .960, our stacked model's score is approximately .962. As things stand, the StackingClassifier is currently the best performing model.\n",
    "\n",
    "In the following subsections, we will build and test our own StackingClassifier, using 10-fold cross-validation rather than the 3-fold cross-validation we used with the Sklearn StackingClassifier."
   ]
  },
  {
   "cell_type": "markdown",
   "metadata": {
    "tags": []
   },
   "source": [
    "#### Create Function to Obtain Out-of-Fold Predictions"
   ]
  },
  {
   "cell_type": "code",
   "execution_count": 50,
   "metadata": {},
   "outputs": [],
   "source": [
    "def obtain_preds(model, name, params, X_train, y_train, X_test, splits=10):\n",
    "    \n",
    "    \"\"\"\n",
    "    This function obtains out-of-fold predictions using 10-fold cross-validation.\n",
    "    Each fold's predictions are stored in an array, which will then be used as one feature to train the meta-estimator.\n",
    "    Each model is also trained on the full training dataset; the trained model's predictions on the test set will be used as features to test the meta-estimator.\\\n",
    "    \"\"\"\n",
    "    \n",
    "    #Turn training and testing data into numpy arrays.\n",
    "    X_train = X_train.to_numpy()\n",
    "    X_test = X_test.to_numpy()\n",
    "    y_train = y_train.to_numpy()\n",
    "    \n",
    "    #Create folds object and lists to store predictions.\n",
    "    kf = StratifiedKFold(n_splits=splits, shuffle=True, random_state=5)\n",
    "    oof_preds = np.zeros(X_train.shape[0])\n",
    "    test_predictions = []\n",
    "    mean_auc = 0\n",
    "    \n",
    "    #Iterate through each fold, making prediction on holdout set.\n",
    "    for num, (train_indx, valid_indx) in tqdm(enumerate(kf.split(X_train, y_train))):\n",
    "        X_t, X_v = X_train[train_indx], X_train[valid_indx]\n",
    "        y_t, y_v = y_train[train_indx], y_train[valid_indx]\n",
    "        \n",
    "        #Fit model.\n",
    "        estimator = model(**params)\n",
    "        estimator.fit(X_t, y_t)\n",
    "        \n",
    "        #Obtain out of fold predictions from validation set.\n",
    "        oof_preds[valid_indx] = estimator.predict_proba(X_v)[:, 1]\n",
    "        \n",
    "        #Obtain score for model fold.\n",
    "        fold_auc = ros(y_v, oof_preds[valid_indx])\n",
    "        \n",
    "        #Mean score for all folds.\n",
    "        mean_auc += fold_auc / splits\n",
    "    \n",
    "    print(f'Training AUC: {mean_auc}')\n",
    "    \n",
    "    #Train on full dataset.\n",
    "    estimator_full = model(**params)\n",
    "    estimator_full.fit(X_train, y_train)\n",
    "    test_predictions = estimator_full.predict_proba(X_test)[:, 1]\n",
    "    \n",
    "    return oof_preds, test_predictions"
   ]
  },
  {
   "cell_type": "markdown",
   "metadata": {},
   "source": [
    "#### Create Prediction DataFrames"
   ]
  },
  {
   "cell_type": "code",
   "execution_count": 51,
   "metadata": {},
   "outputs": [],
   "source": [
    "stacking_features_train = pd.DataFrame()\n",
    "stacking_features_test = pd.DataFrame()"
   ]
  },
  {
   "cell_type": "markdown",
   "metadata": {},
   "source": [
    "#### Obtain Predictions for Base Models"
   ]
  },
  {
   "cell_type": "markdown",
   "metadata": {},
   "source": [
    "**XGBClassifier**"
   ]
  },
  {
   "cell_type": "code",
   "execution_count": 52,
   "metadata": {
    "tags": []
   },
   "outputs": [
    {
     "name": "stderr",
     "output_type": "stream",
     "text": [
      "10it [01:10,  7.00s/it]\n"
     ]
    },
    {
     "name": "stdout",
     "output_type": "stream",
     "text": [
      "Training AUC: 0.9544684135439225\n"
     ]
    }
   ],
   "source": [
    "#Obtain predictions for XGBClassifier\n",
    "train_preds, test_preds = obtain_preds(xgb.XGBClassifier, 'XGBClassifier', xgb_params, X_train, y_train, X_test)\n",
    "\n",
    "#Add predictions to dataframes.\n",
    "stacking_features_train['xgb_preds'] = train_preds\n",
    "stacking_features_test['xgb_preds'] = test_preds"
   ]
  },
  {
   "cell_type": "markdown",
   "metadata": {},
   "source": [
    "**CatBoostClassifier**"
   ]
  },
  {
   "cell_type": "code",
   "execution_count": 53,
   "metadata": {},
   "outputs": [
    {
     "name": "stderr",
     "output_type": "stream",
     "text": [
      "10it [23:38, 141.83s/it]\n"
     ]
    },
    {
     "name": "stdout",
     "output_type": "stream",
     "text": [
      "Training AUC: 0.9515938804169797\n"
     ]
    }
   ],
   "source": [
    "#Obtain predictions for CatBoostClassifier.\n",
    "train_preds, test_preds = obtain_preds(CatBoostClassifier, 'CatBoostClassifier', cat_params, X_train, y_train, X_test)\n",
    "\n",
    "#Add predictions to DataFrames.\n",
    "stacking_features_train['cat_preds'] = train_preds\n",
    "stacking_features_test['cat_preds'] = test_preds"
   ]
  },
  {
   "cell_type": "markdown",
   "metadata": {},
   "source": [
    "**LGBMClassifier**"
   ]
  },
  {
   "cell_type": "code",
   "execution_count": 54,
   "metadata": {},
   "outputs": [
    {
     "name": "stderr",
     "output_type": "stream",
     "text": [
      "10it [00:28,  2.80s/it]\n"
     ]
    },
    {
     "name": "stdout",
     "output_type": "stream",
     "text": [
      "Training AUC: 0.8866318161723163\n"
     ]
    }
   ],
   "source": [
    "#Obtain predictions for CatBoostClassifier.\n",
    "train_preds, test_preds = obtain_preds(lgbm.LGBMClassifier, 'LGBMClassifier', lgbm_params, X_train, y_train, X_test)\n",
    "\n",
    "#Add predictions to DataFrames.\n",
    "stacking_features_train['lgbm_preds'] = train_preds\n",
    "stacking_features_test['lgbm_preds'] = test_preds"
   ]
  },
  {
   "cell_type": "markdown",
   "metadata": {},
   "source": [
    "#### Train and Test Stacking Meta-Model"
   ]
  },
  {
   "cell_type": "code",
   "execution_count": 55,
   "metadata": {},
   "outputs": [],
   "source": [
    "def test_meta_Stack(X_train, y_train, X_test, y_test):\n",
    "    \n",
    "    \"\"\"\n",
    "    This function is used to train and test a meta-estimator - in this case, we use logistic regression.\n",
    "    We train the meta-estimator on the features derived from out-of-fold predictions.\n",
    "    The estimator makes predictions using the previously defined testing features.\n",
    "    Finally, scores for the Stacked Meta-Model are displayed.\n",
    "    \"\"\"\n",
    "    \n",
    "    meta_estt = LogisticRegression(max_iter=10000)\n",
    "    meta_estt.fit(X_train, y_train)\n",
    "    \n",
    "    #Obtain validation predictions and add to list.\n",
    "    training_preds = meta_estt.predict_proba(X_train)[:, 1]\n",
    "    train_score = ros(y_train, training_preds)\n",
    "    print(f'AUC-ROC score for training estimator : {train_score}')\n",
    "    \n",
    "    #Obtain predictions on test set and add to list.\n",
    "    test_predictions_proba = meta_estt.predict_proba(X_test)[:, 1]\n",
    "    test_predictions = meta_estt.predict(X_test)\n",
    "\n",
    "    #Obtain scores and confusion matrix.\n",
    "    score(y_test, test_predictions_proba, test_predictions, 'Stacked Meta-Model')"
   ]
  },
  {
   "cell_type": "code",
   "execution_count": 57,
   "metadata": {},
   "outputs": [
    {
     "name": "stdout",
     "output_type": "stream",
     "text": [
      "AUC-ROC score for training estimator : 0.9559709972025063\n"
     ]
    },
    {
     "data": {
      "text/html": [
       "<div>\n",
       "<style scoped>\n",
       "    .dataframe tbody tr th:only-of-type {\n",
       "        vertical-align: middle;\n",
       "    }\n",
       "\n",
       "    .dataframe tbody tr th {\n",
       "        vertical-align: top;\n",
       "    }\n",
       "\n",
       "    .dataframe thead th {\n",
       "        text-align: right;\n",
       "    }\n",
       "</style>\n",
       "<table border=\"1\" class=\"dataframe\">\n",
       "  <thead>\n",
       "    <tr style=\"text-align: right;\">\n",
       "      <th></th>\n",
       "      <th>F1 Score</th>\n",
       "      <th>AUC_ROC Score</th>\n",
       "      <th>Mathew's Corr.</th>\n",
       "    </tr>\n",
       "  </thead>\n",
       "  <tbody>\n",
       "    <tr>\n",
       "      <th>Stacked Meta-Model</th>\n",
       "      <td>0.832408</td>\n",
       "      <td>0.962782</td>\n",
       "      <td>0.776738</td>\n",
       "    </tr>\n",
       "  </tbody>\n",
       "</table>\n",
       "</div>"
      ],
      "text/plain": [
       "                    F1 Score  AUC_ROC Score  Mathew's Corr.\n",
       "Stacked Meta-Model  0.832408       0.962782        0.776738"
      ]
     },
     "metadata": {},
     "output_type": "display_data"
    },
    {
     "data": {
      "image/png": "[encoded data removed]",
      "text/plain": [
       "<Figure size 576x360 with 2 Axes>"
      ]
     },
     "metadata": {
      "needs_background": "light"
     },
     "output_type": "display_data"
    }
   ],
   "source": [
    "#Test stacking model.\n",
    "test_meta_Stack(stacking_features_train, y_train, stacking_features_test, y_test)"
   ]
  },
  {
   "cell_type": "markdown",
   "metadata": {},
   "source": [
    "4.5.5 Notes: At is turns out, our stacking method with 10-fold cross-validation provided an even higher AUC-ROC score than our previous stacked model, as well as higher than any of the individual base models used to develop our stacked model. That being said, it has a slightly lower F1 and MCC score than the CatBoost base model, meaning the latter is slighlty more balanced."
   ]
  },
  {
   "cell_type": "markdown",
   "metadata": {},
   "source": [
    "#### Model Stacking Summary"
   ]
  },
  {
   "cell_type": "markdown",
   "metadata": {},
   "source": [
    "After testing both Sklearn's StackingClassifier (with 3-fold cross validation) and our custom-made stacked model (using 10-fold cross-validation), we found that both models performed better in terms of AUC-ROC score than any of the base models. Our StackingClassifier model had a higher AUC-ROC score than any of our base models, and our Stacked Meta-Model had an even higher score. Where our blended model failed to produce a higher AUC-ROC score than our CatBoost model, which was approximately .960, our Stacked Meta-Model's AUC-ROC score was approximately .963. \n",
    "\n",
    "Having trained and tested various models, it appears that our Stacked Meta-Model is the most well-balanced, highest AUC-ROC scoring model we developed. Given that our goal was to produce a model with an AUC-ROC score of at least .88, we are very pleased with the results of this project."
   ]
  },
  {
   "cell_type": "markdown",
   "metadata": {},
   "source": [
    "## Conclusion"
   ]
  },
  {
   "cell_type": "markdown",
   "metadata": {},
   "source": [
    "The aim of this project was to build a machine learning model for Telecom that can predict whether a client is likely to churn. The specification for this model was that it have an AUC-ROC score of .88 or greater. Given that AUC-ROC scores alone do not provide an adequate overview of the quality of one's model, we also evaluated each model according to their F1 and Matthew's Correlation Coefficient scores. \n",
    "\n",
    "Prior to developing models, we carried out exploratory data analysis and preprocessing. In doing so, we found that there were numerous steps that were necessary to carry our prior to building models; for example, we had to deal with NaNs, categorize data, and change datatypes. Additionally, we decided to create some new features and drop some that don't provide much useful information.\n",
    "\n",
    "Regarding our exploratory data analaysis, we started by examining the distribution of target variables. We found that the dataset is mildly imbalanced, with between 2 and 3 times the number of negative observations as positive. We chose not to attempt SMOTEing or up/downsample to correct for this imbalance unless our models aren't able to account for it, which we found they could. \n",
    "\n",
    "Through exploratory data analysis, we also found that no independent variables strongly correlate with our dependent variables, though there was a bit of multicollinearity between independent variables. Regarding the latter point, we decided to drop the 'month' feature from our dataset, as its correlation with all other features was exactly the same as the 'days' feature's.\n",
    "\n",
    "As a final step in exploratory data analysis, we examined the dispersion of data for the continuous variables using boxplots; we set the 'hue' parameter to 'EndDate' in order to visualize the differences between target groups. In doing so, we found that the churn group appears to have a shorter mean contract length and a higher mean monthly cost than the group that didn't churn. In order to see if this is a valid conclusion, we statistically tested whether the difference in means between groups are significant. As a result of our tests, we rejected both of our null hypotheses: 1) that there is no difference in mean contract lengths for users who have churned versus users who haven't; and, 2) that there is no difference in mean monthly charge amount for users who have churned versus users who haven't.\n",
    "\n",
    "As for the modeling portion of this project, we began by searching for the optimal hyperparameters for the three main gradient-boosting algorithms using optuna. Once we identified the best parameters out of a certain number of trials, we obtained the relevant scores for each base model. We then attempted ensemble blending, using logistic regression as our meta-estimator. Our assumption was that the blended model would produce higher scores than the base models; however, we found that, while the blended model performed better than the LGBM and XGBoost models, it performed slightly worse than our CatBoost model. \n",
    "\n",
    "We then attempted model stacking, first using Sklearn's built-in StackingClassifier with 3-fold cross-validation. We found that this stacked model performed better, in terms of AUC-ROC score, than any of the base models. We then built a stacking classifier by hand, using 10-fold cross-validation. We found that this meta-model actually performed even better than the StackingClassifier. \n",
    "\n",
    "After training and testing various models, our conclusion is that the Stacked Meta-Model performs the best of all models; in terms of AUC-ROC, the Stacked Meta-Model had the highest score (i.e., .963). The only weakness we observed with this model is that is produced slightly lower F1 and MCC scores than the CatBoost model; however, given the small difference between the scores, we may conclude that the Stacked Meta-Model is almost as balanced as out CatBoost model. If AUC-ROC score is Telecom's primary concern, then they should deploy the Stacked Meta-Model; however, if they would like to sacrafice some of the AUC-ROC score in order to obtain better balance between true and false positive and negative rates, then perhaps the CatBoost model would be a better choice.\n",
    "\n",
    "Overall, we believe that we have produced a model that not only meets, but exceeds Telecom's specifications. Our only recommendation regarding producing a more robust model would be for Telecom to collect and supply more observations for us to use to develop models. For this task, we were supplied with 7043 observations. While the difference between individuals who churn and those who don't might be significant enough to build a robust model on such limited data, we would be interested in seeing if models would be even more robust when trained on more data."
   ]
  }
 ],
 "metadata": {
  "kernelspec": {
   "display_name": "Python 3",
   "language": "python",
   "name": "python3"
  },
  "language_info": {
   "codemirror_mode": {
    "name": "ipython",
    "version": 3
   },
   "file_extension": ".py",
   "mimetype": "text/x-python",
   "name": "python",
   "nbconvert_exporter": "python",
   "pygments_lexer": "ipython3",
   "version": "3.8.5"
  },
  "toc": {
   "base_numbering": 1,
   "nav_menu": {},
   "number_sections": true,
   "sideBar": true,
   "skip_h1_title": true,
   "title_cell": "Table of Contents",
   "title_sidebar": "Contents",
   "toc_cell": true,
   "toc_position": {},
   "toc_section_display": true,
   "toc_window_display": true
  }
 },
 "nbformat": 4,
 "nbformat_minor": 5
}
